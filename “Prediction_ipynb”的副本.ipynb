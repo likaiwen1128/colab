{
  "nbformat": 4,
  "nbformat_minor": 0,
  "metadata": {
    "colab": {
      "name": "“Prediction.ipynb”的副本",
      "version": "0.3.2",
      "provenance": [],
      "include_colab_link": true
    },
    "kernelspec": {
      "name": "python3",
      "display_name": "Python 3"
    }
  },
  "cells": [
    {
      "cell_type": "markdown",
      "metadata": {
        "id": "view-in-github",
        "colab_type": "text"
      },
      "source": [
        "<a href=\"https://colab.research.google.com/github/likaiwen1128/colab/blob/master/%E2%80%9CPrediction_ipynb%E2%80%9D%E7%9A%84%E5%89%AF%E6%9C%AC.ipynb\" target=\"_parent\"><img src=\"https://colab.research.google.com/assets/colab-badge.svg\" alt=\"Open In Colab\"/></a>"
      ]
    },
    {
      "cell_type": "code",
      "metadata": {
        "id": "0J2mHIvrWGjh",
        "colab_type": "code",
        "colab": {}
      },
      "source": [
        "import numpy as np\n",
        "import matplotlib.pyplot as plt\n",
        "\n",
        "plt.style.use('ggplot')\n",
        "\n",
        "from sklearn.linear_model import LinearRegression\n",
        "from sklearn.preprocessing import PolynomialFeatures\n",
        "from sklearn.pipeline import make_pipeline\n",
        "from sklearn.model_selection import validation_curve"
      ],
      "execution_count": 0,
      "outputs": []
    },
    {
      "cell_type": "code",
      "metadata": {
        "id": "lFCPKbFbXZET",
        "colab_type": "code",
        "colab": {}
      },
      "source": [
        "import pandas as pd\n",
        "import array as array"
      ],
      "execution_count": 0,
      "outputs": []
    },
    {
      "cell_type": "code",
      "metadata": {
        "id": "2rpfVFWWYNAh",
        "colab_type": "code",
        "outputId": "3daf4028-5eca-44dc-eb7e-cf3f7e3d4722",
        "colab": {
          "base_uri": "https://localhost:8080/",
          "height": 199
        }
      },
      "source": [
        "data=pd.read_csv(\"https://raw.githubusercontent.com/kosukeimai/qss/master/MEASUREMENT/unvoting.csv\")\n",
        "data.head()"
      ],
      "execution_count": 0,
      "outputs": [
        {
          "output_type": "execute_result",
          "data": {
            "text/html": [
              "<div>\n",
              "<style scoped>\n",
              "    .dataframe tbody tr th:only-of-type {\n",
              "        vertical-align: middle;\n",
              "    }\n",
              "\n",
              "    .dataframe tbody tr th {\n",
              "        vertical-align: top;\n",
              "    }\n",
              "\n",
              "    .dataframe thead th {\n",
              "        text-align: right;\n",
              "    }\n",
              "</style>\n",
              "<table border=\"1\" class=\"dataframe\">\n",
              "  <thead>\n",
              "    <tr style=\"text-align: right;\">\n",
              "      <th></th>\n",
              "      <th>Year</th>\n",
              "      <th>CountryAbb</th>\n",
              "      <th>CountryName</th>\n",
              "      <th>idealpoint</th>\n",
              "      <th>PctAgreeUS</th>\n",
              "      <th>PctAgreeRUSSIA</th>\n",
              "    </tr>\n",
              "  </thead>\n",
              "  <tbody>\n",
              "    <tr>\n",
              "      <th>0</th>\n",
              "      <td>1946</td>\n",
              "      <td>USA</td>\n",
              "      <td>United States of America</td>\n",
              "      <td>1.713689</td>\n",
              "      <td>1.0</td>\n",
              "      <td>0.214286</td>\n",
              "    </tr>\n",
              "    <tr>\n",
              "      <th>1</th>\n",
              "      <td>1947</td>\n",
              "      <td>USA</td>\n",
              "      <td>United States of America</td>\n",
              "      <td>1.812884</td>\n",
              "      <td>1.0</td>\n",
              "      <td>0.263158</td>\n",
              "    </tr>\n",
              "    <tr>\n",
              "      <th>2</th>\n",
              "      <td>1948</td>\n",
              "      <td>USA</td>\n",
              "      <td>United States of America</td>\n",
              "      <td>1.936166</td>\n",
              "      <td>1.0</td>\n",
              "      <td>0.127451</td>\n",
              "    </tr>\n",
              "    <tr>\n",
              "      <th>3</th>\n",
              "      <td>1949</td>\n",
              "      <td>USA</td>\n",
              "      <td>United States of America</td>\n",
              "      <td>1.876619</td>\n",
              "      <td>1.0</td>\n",
              "      <td>0.111111</td>\n",
              "    </tr>\n",
              "    <tr>\n",
              "      <th>4</th>\n",
              "      <td>1950</td>\n",
              "      <td>USA</td>\n",
              "      <td>United States of America</td>\n",
              "      <td>1.810646</td>\n",
              "      <td>1.0</td>\n",
              "      <td>0.173077</td>\n",
              "    </tr>\n",
              "  </tbody>\n",
              "</table>\n",
              "</div>"
            ],
            "text/plain": [
              "   Year CountryAbb               CountryName  idealpoint  PctAgreeUS  \\\n",
              "0  1946        USA  United States of America    1.713689         1.0   \n",
              "1  1947        USA  United States of America    1.812884         1.0   \n",
              "2  1948        USA  United States of America    1.936166         1.0   \n",
              "3  1949        USA  United States of America    1.876619         1.0   \n",
              "4  1950        USA  United States of America    1.810646         1.0   \n",
              "\n",
              "   PctAgreeRUSSIA  \n",
              "0        0.214286  \n",
              "1        0.263158  \n",
              "2        0.127451  \n",
              "3        0.111111  \n",
              "4        0.173077  "
            ]
          },
          "metadata": {
            "tags": []
          },
          "execution_count": 4
        }
      ]
    },
    {
      "cell_type": "code",
      "metadata": {
        "id": "HQOc2eKFYRKo",
        "colab_type": "code",
        "outputId": "3283de9a-2326-4a22-c88f-866c4227a278",
        "colab": {
          "base_uri": "https://localhost:8080/",
          "height": 230
        }
      },
      "source": [
        "data1=data.groupby(\"Year\").mean()\n",
        "data1.head()"
      ],
      "execution_count": 0,
      "outputs": [
        {
          "output_type": "execute_result",
          "data": {
            "text/html": [
              "<div>\n",
              "<style scoped>\n",
              "    .dataframe tbody tr th:only-of-type {\n",
              "        vertical-align: middle;\n",
              "    }\n",
              "\n",
              "    .dataframe tbody tr th {\n",
              "        vertical-align: top;\n",
              "    }\n",
              "\n",
              "    .dataframe thead th {\n",
              "        text-align: right;\n",
              "    }\n",
              "</style>\n",
              "<table border=\"1\" class=\"dataframe\">\n",
              "  <thead>\n",
              "    <tr style=\"text-align: right;\">\n",
              "      <th></th>\n",
              "      <th>idealpoint</th>\n",
              "      <th>PctAgreeUS</th>\n",
              "      <th>PctAgreeRUSSIA</th>\n",
              "    </tr>\n",
              "    <tr>\n",
              "      <th>Year</th>\n",
              "      <th></th>\n",
              "      <th></th>\n",
              "      <th></th>\n",
              "    </tr>\n",
              "  </thead>\n",
              "  <tbody>\n",
              "    <tr>\n",
              "      <th>1946</th>\n",
              "      <td>0.878918</td>\n",
              "      <td>0.584562</td>\n",
              "      <td>0.361673</td>\n",
              "    </tr>\n",
              "    <tr>\n",
              "      <th>1947</th>\n",
              "      <td>0.837604</td>\n",
              "      <td>0.621445</td>\n",
              "      <td>0.382649</td>\n",
              "    </tr>\n",
              "    <tr>\n",
              "      <th>1948</th>\n",
              "      <td>0.765981</td>\n",
              "      <td>0.577968</td>\n",
              "      <td>0.279465</td>\n",
              "    </tr>\n",
              "    <tr>\n",
              "      <th>1949</th>\n",
              "      <td>0.733457</td>\n",
              "      <td>0.540646</td>\n",
              "      <td>0.377212</td>\n",
              "    </tr>\n",
              "    <tr>\n",
              "      <th>1950</th>\n",
              "      <td>0.686996</td>\n",
              "      <td>0.634707</td>\n",
              "      <td>0.311865</td>\n",
              "    </tr>\n",
              "  </tbody>\n",
              "</table>\n",
              "</div>"
            ],
            "text/plain": [
              "      idealpoint  PctAgreeUS  PctAgreeRUSSIA\n",
              "Year                                        \n",
              "1946    0.878918    0.584562        0.361673\n",
              "1947    0.837604    0.621445        0.382649\n",
              "1948    0.765981    0.577968        0.279465\n",
              "1949    0.733457    0.540646        0.377212\n",
              "1950    0.686996    0.634707        0.311865"
            ]
          },
          "metadata": {
            "tags": []
          },
          "execution_count": 5
        }
      ]
    },
    {
      "cell_type": "code",
      "metadata": {
        "id": "759Dwo-eYkTe",
        "colab_type": "code",
        "outputId": "54ce66a7-3317-4b33-982c-71e2b09c9297",
        "colab": {
          "base_uri": "https://localhost:8080/",
          "height": 286
        }
      },
      "source": [
        "plt.scatter(data1.index, data1.PctAgreeUS)"
      ],
      "execution_count": 0,
      "outputs": [
        {
          "output_type": "execute_result",
          "data": {
            "text/plain": [
              "<matplotlib.collections.PathCollection at 0x7f039a6bf080>"
            ]
          },
          "metadata": {
            "tags": []
          },
          "execution_count": 6
        },
        {
          "output_type": "display_data",
          "data": {
            "image/png": "[encoded data removed]",
            "text/plain": [
              "<Figure size 432x288 with 1 Axes>"
            ]
          },
          "metadata": {
            "tags": []
          }
        }
      ]
    },
    {
      "cell_type": "code",
      "metadata": {
        "id": "CzeEzIODZeIb",
        "colab_type": "code",
        "colab": {}
      },
      "source": [
        "data2=data1.index.values[:, np.newaxis]\n",
        "data3=data1.PctAgreeUS[:, np.newaxis]\n",
        "data4=data3*(10)"
      ],
      "execution_count": 0,
      "outputs": []
    },
    {
      "cell_type": "code",
      "metadata": {
        "id": "iyugs8X4Z8JH",
        "colab_type": "code",
        "colab": {}
      },
      "source": [
        "def PolynomialRegression(deg=10, **kwargs):\n",
        "  return make_pipeline(\n",
        "      PolynomialFeatures(deg),\n",
        "      LinearRegression( **kwargs)\n",
        "  )"
      ],
      "execution_count": 0,
      "outputs": []
    },
    {
      "cell_type": "code",
      "metadata": {
        "id": "a_M48cJdaILl",
        "colab_type": "code",
        "colab": {}
      },
      "source": [
        "poly_fit=PolynomialRegression(deg=10)"
      ],
      "execution_count": 0,
      "outputs": []
    },
    {
      "cell_type": "code",
      "metadata": {
        "id": "DGes-1jJaW8R",
        "colab_type": "code",
        "colab": {}
      },
      "source": [
        "y_value=poly_fit.fit(data2, data4).predict(data2)"
      ],
      "execution_count": 0,
      "outputs": []
    },
    {
      "cell_type": "code",
      "metadata": {
        "id": "GAXL-Q9zahqC",
        "colab_type": "code",
        "outputId": "69230fb0-5652-4d75-cca4-522873ef4298",
        "colab": {
          "base_uri": "https://localhost:8080/",
          "height": 286
        }
      },
      "source": [
        "plt.scatter(data2, data4, c=\"green\", alpha=.4)\n",
        "plt.plot(data2, y_value, c=\"blue\", alpha=.4)"
      ],
      "execution_count": 0,
      "outputs": [
        {
          "output_type": "execute_result",
          "data": {
            "text/plain": [
              "[<matplotlib.lines.Line2D at 0x7f0397e18080>]"
            ]
          },
          "metadata": {
            "tags": []
          },
          "execution_count": 11
        },
        {
          "output_type": "display_data",
          "data": {
            "image/png": "[encoded data removed]",
            "text/plain": [
              "<Figure size 432x288 with 1 Axes>"
            ]
          },
          "metadata": {
            "tags": []
          }
        }
      ]
    },
    {
      "cell_type": "code",
      "metadata": {
        "id": "mWf0IS-yej8N",
        "colab_type": "code",
        "outputId": "4e858da9-1f13-408b-d7aa-ad0f6ce087ec",
        "colab": {
          "base_uri": "https://localhost:8080/",
          "height": 34
        }
      },
      "source": [
        "data1.shape"
      ],
      "execution_count": 0,
      "outputs": [
        {
          "output_type": "execute_result",
          "data": {
            "text/plain": [
              "(66, 3)"
            ]
          },
          "metadata": {
            "tags": []
          },
          "execution_count": 12
        }
      ]
    },
    {
      "cell_type": "code",
      "metadata": {
        "id": "7pGcHEUKwJFr",
        "colab_type": "code",
        "outputId": "ebbcf531-ce4b-4105-ebc6-4bd8e4eb4437",
        "colab": {
          "base_uri": "https://localhost:8080/",
          "height": 34
        }
      },
      "source": [
        "data2.shape,data3.shape"
      ],
      "execution_count": 0,
      "outputs": [
        {
          "output_type": "execute_result",
          "data": {
            "text/plain": [
              "((66, 1), (66, 1))"
            ]
          },
          "metadata": {
            "tags": []
          },
          "execution_count": 17
        }
      ]
    },
    {
      "cell_type": "code",
      "metadata": {
        "id": "ldfIvhSucEjD",
        "colab_type": "code",
        "colab": {}
      },
      "source": [
        "degree=np.arange(0, 10)\n",
        "train_score, val_score = validation_curve(PolynomialRegression(), data2, data3,\n",
        "                                          'polynomialfeatures__degree',\n",
        "                                          degree,\n",
        "                                          cv=4)"
      ],
      "execution_count": 0,
      "outputs": []
    },
    {
      "cell_type": "code",
      "metadata": {
        "id": "xiykuCQgdf9H",
        "colab_type": "code",
        "outputId": "9dd1ea34-e3b6-483a-a9a1-673f034fbbd0",
        "colab": {
          "base_uri": "https://localhost:8080/",
          "height": 286
        }
      },
      "source": [
        "plt.plot(degree, np.median(train_score, 1), color='blue', label='training score')\n",
        "plt.plot(degree, np.median(val_score, 1), color='red', label='validation score')\n",
        "plt.legend(loc='best')\n",
        "#plt.ylim(1, 7)"
      ],
      "execution_count": 0,
      "outputs": [
        {
          "output_type": "execute_result",
          "data": {
            "text/plain": [
              "<matplotlib.legend.Legend at 0x7f0397bbe358>"
            ]
          },
          "metadata": {
            "tags": []
          },
          "execution_count": 26
        },
        {
          "output_type": "display_data",
          "data": {
            "image/png": "[encoded data removed]",
            "text/plain": [
              "<Figure size 432x288 with 1 Axes>"
            ]
          },
          "metadata": {
            "tags": []
          }
        }
      ]
    },
    {
      "cell_type": "code",
      "metadata": {
        "id": "ItEm7CWGvpi9",
        "colab_type": "code",
        "colab": {}
      },
      "source": [
        ""
      ],
      "execution_count": 0,
      "outputs": []
    }
  ]
}