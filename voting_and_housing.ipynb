{
  "nbformat": 4,
  "nbformat_minor": 0,
  "metadata": {
    "colab": {
      "name": "voting and housing",
      "version": "0.3.2",
      "provenance": [],
      "collapsed_sections": [],
      "include_colab_link": true
    },
    "kernelspec": {
      "name": "python3",
      "display_name": "Python 3"
    }
  },
  "cells": [
    {
      "cell_type": "markdown",
      "metadata": {
        "id": "view-in-github",
        "colab_type": "text"
      },
      "source": [
        "<a href=\"https://colab.research.google.com/github/likaiwen1128/colab/blob/master/voting_and_housing.ipynb\" target=\"_parent\"><img src=\"https://colab.research.google.com/assets/colab-badge.svg\" alt=\"Open In Colab\"/></a>"
      ]
    },
    {
      "cell_type": "code",
      "metadata": {
        "id": "8j18gzNiWIlm",
        "colab_type": "code",
        "colab": {}
      },
      "source": [
        "import numpy as np\n",
        "import matplotlib.pyplot as plt\n",
        "import pandas as pd\n",
        "\n",
        "plt.style.use('ggplot')"
      ],
      "execution_count": 0,
      "outputs": []
    },
    {
      "cell_type": "code",
      "metadata": {
        "id": "f66qtgOwW6-e",
        "colab_type": "code",
        "colab": {}
      },
      "source": [
        "from sklearn.linear_model import LinearRegression\n",
        "from sklearn.preprocessing import PolynomialFeatures\n",
        "from sklearn.pipeline import make_pipeline"
      ],
      "execution_count": 0,
      "outputs": []
    },
    {
      "cell_type": "code",
      "metadata": {
        "id": "sJmmzAG_X8oL",
        "colab_type": "code",
        "colab": {}
      },
      "source": [
        "from sklearn.model_selection import validation_curve"
      ],
      "execution_count": 0,
      "outputs": []
    },
    {
      "cell_type": "code",
      "metadata": {
        "id": "idhEv_GVS-8A",
        "colab_type": "code",
        "outputId": "6939ae05-acfd-4e8b-8e91-359a904a7a52",
        "colab": {
          "base_uri": "https://localhost:8080/",
          "height": 247
        }
      },
      "source": [
        "income=pd.read_csv(\"https://raw.githubusercontent.com/jordanbean/Starbucks-Location-Mapping/master/acs2015_county_data.csv\")\n",
        "income.head()"
      ],
      "execution_count": 0,
      "outputs": [
        {
          "output_type": "execute_result",
          "data": {
            "text/html": [
              "<div>\n",
              "<style scoped>\n",
              "    .dataframe tbody tr th:only-of-type {\n",
              "        vertical-align: middle;\n",
              "    }\n",
              "\n",
              "    .dataframe tbody tr th {\n",
              "        vertical-align: top;\n",
              "    }\n",
              "\n",
              "    .dataframe thead th {\n",
              "        text-align: right;\n",
              "    }\n",
              "</style>\n",
              "<table border=\"1\" class=\"dataframe\">\n",
              "  <thead>\n",
              "    <tr style=\"text-align: right;\">\n",
              "      <th></th>\n",
              "      <th>CensusId</th>\n",
              "      <th>State</th>\n",
              "      <th>County</th>\n",
              "      <th>TotalPop</th>\n",
              "      <th>Men</th>\n",
              "      <th>Women</th>\n",
              "      <th>Hispanic</th>\n",
              "      <th>White</th>\n",
              "      <th>Black</th>\n",
              "      <th>Native</th>\n",
              "      <th>...</th>\n",
              "      <th>Walk</th>\n",
              "      <th>OtherTransp</th>\n",
              "      <th>WorkAtHome</th>\n",
              "      <th>MeanCommute</th>\n",
              "      <th>Employed</th>\n",
              "      <th>PrivateWork</th>\n",
              "      <th>PublicWork</th>\n",
              "      <th>SelfEmployed</th>\n",
              "      <th>FamilyWork</th>\n",
              "      <th>Unemployment</th>\n",
              "    </tr>\n",
              "  </thead>\n",
              "  <tbody>\n",
              "    <tr>\n",
              "      <th>0</th>\n",
              "      <td>1001</td>\n",
              "      <td>Alabama</td>\n",
              "      <td>Autauga</td>\n",
              "      <td>55221</td>\n",
              "      <td>26745</td>\n",
              "      <td>28476</td>\n",
              "      <td>2.6</td>\n",
              "      <td>75.8</td>\n",
              "      <td>18.5</td>\n",
              "      <td>0.4</td>\n",
              "      <td>...</td>\n",
              "      <td>0.5</td>\n",
              "      <td>1.3</td>\n",
              "      <td>1.8</td>\n",
              "      <td>26.5</td>\n",
              "      <td>23986</td>\n",
              "      <td>73.6</td>\n",
              "      <td>20.9</td>\n",
              "      <td>5.5</td>\n",
              "      <td>0.0</td>\n",
              "      <td>7.6</td>\n",
              "    </tr>\n",
              "    <tr>\n",
              "      <th>1</th>\n",
              "      <td>1003</td>\n",
              "      <td>Alabama</td>\n",
              "      <td>Baldwin</td>\n",
              "      <td>195121</td>\n",
              "      <td>95314</td>\n",
              "      <td>99807</td>\n",
              "      <td>4.5</td>\n",
              "      <td>83.1</td>\n",
              "      <td>9.5</td>\n",
              "      <td>0.6</td>\n",
              "      <td>...</td>\n",
              "      <td>1.0</td>\n",
              "      <td>1.4</td>\n",
              "      <td>3.9</td>\n",
              "      <td>26.4</td>\n",
              "      <td>85953</td>\n",
              "      <td>81.5</td>\n",
              "      <td>12.3</td>\n",
              "      <td>5.8</td>\n",
              "      <td>0.4</td>\n",
              "      <td>7.5</td>\n",
              "    </tr>\n",
              "    <tr>\n",
              "      <th>2</th>\n",
              "      <td>1005</td>\n",
              "      <td>Alabama</td>\n",
              "      <td>Barbour</td>\n",
              "      <td>26932</td>\n",
              "      <td>14497</td>\n",
              "      <td>12435</td>\n",
              "      <td>4.6</td>\n",
              "      <td>46.2</td>\n",
              "      <td>46.7</td>\n",
              "      <td>0.2</td>\n",
              "      <td>...</td>\n",
              "      <td>1.8</td>\n",
              "      <td>1.5</td>\n",
              "      <td>1.6</td>\n",
              "      <td>24.1</td>\n",
              "      <td>8597</td>\n",
              "      <td>71.8</td>\n",
              "      <td>20.8</td>\n",
              "      <td>7.3</td>\n",
              "      <td>0.1</td>\n",
              "      <td>17.6</td>\n",
              "    </tr>\n",
              "    <tr>\n",
              "      <th>3</th>\n",
              "      <td>1007</td>\n",
              "      <td>Alabama</td>\n",
              "      <td>Bibb</td>\n",
              "      <td>22604</td>\n",
              "      <td>12073</td>\n",
              "      <td>10531</td>\n",
              "      <td>2.2</td>\n",
              "      <td>74.5</td>\n",
              "      <td>21.4</td>\n",
              "      <td>0.4</td>\n",
              "      <td>...</td>\n",
              "      <td>0.6</td>\n",
              "      <td>1.5</td>\n",
              "      <td>0.7</td>\n",
              "      <td>28.8</td>\n",
              "      <td>8294</td>\n",
              "      <td>76.8</td>\n",
              "      <td>16.1</td>\n",
              "      <td>6.7</td>\n",
              "      <td>0.4</td>\n",
              "      <td>8.3</td>\n",
              "    </tr>\n",
              "    <tr>\n",
              "      <th>4</th>\n",
              "      <td>1009</td>\n",
              "      <td>Alabama</td>\n",
              "      <td>Blount</td>\n",
              "      <td>57710</td>\n",
              "      <td>28512</td>\n",
              "      <td>29198</td>\n",
              "      <td>8.6</td>\n",
              "      <td>87.9</td>\n",
              "      <td>1.5</td>\n",
              "      <td>0.3</td>\n",
              "      <td>...</td>\n",
              "      <td>0.9</td>\n",
              "      <td>0.4</td>\n",
              "      <td>2.3</td>\n",
              "      <td>34.9</td>\n",
              "      <td>22189</td>\n",
              "      <td>82.0</td>\n",
              "      <td>13.5</td>\n",
              "      <td>4.2</td>\n",
              "      <td>0.4</td>\n",
              "      <td>7.7</td>\n",
              "    </tr>\n",
              "  </tbody>\n",
              "</table>\n",
              "<p>5 rows × 37 columns</p>\n",
              "</div>"
            ],
            "text/plain": [
              "   CensusId    State   County  TotalPop    Men  Women  Hispanic  White  Black  \\\n",
              "0      1001  Alabama  Autauga     55221  26745  28476       2.6   75.8   18.5   \n",
              "1      1003  Alabama  Baldwin    195121  95314  99807       4.5   83.1    9.5   \n",
              "2      1005  Alabama  Barbour     26932  14497  12435       4.6   46.2   46.7   \n",
              "3      1007  Alabama     Bibb     22604  12073  10531       2.2   74.5   21.4   \n",
              "4      1009  Alabama   Blount     57710  28512  29198       8.6   87.9    1.5   \n",
              "\n",
              "   Native  ...  Walk  OtherTransp  WorkAtHome  MeanCommute  Employed  \\\n",
              "0     0.4  ...   0.5          1.3         1.8         26.5     23986   \n",
              "1     0.6  ...   1.0          1.4         3.9         26.4     85953   \n",
              "2     0.2  ...   1.8          1.5         1.6         24.1      8597   \n",
              "3     0.4  ...   0.6          1.5         0.7         28.8      8294   \n",
              "4     0.3  ...   0.9          0.4         2.3         34.9     22189   \n",
              "\n",
              "   PrivateWork  PublicWork  SelfEmployed  FamilyWork  Unemployment  \n",
              "0         73.6        20.9           5.5         0.0           7.6  \n",
              "1         81.5        12.3           5.8         0.4           7.5  \n",
              "2         71.8        20.8           7.3         0.1          17.6  \n",
              "3         76.8        16.1           6.7         0.4           8.3  \n",
              "4         82.0        13.5           4.2         0.4           7.7  \n",
              "\n",
              "[5 rows x 37 columns]"
            ]
          },
          "metadata": {
            "tags": []
          },
          "execution_count": 8
        }
      ]
    },
    {
      "cell_type": "code",
      "metadata": {
        "id": "Y5xnlpLMSERQ",
        "colab_type": "code",
        "outputId": "175a05f2-04e6-4e2e-904d-0482d74e6395",
        "colab": {
          "base_uri": "https://localhost:8080/",
          "height": 627
        }
      },
      "source": [
        "star=pd.read_csv(\"https://raw.githubusercontent.com/tejaykodali/starbucks-locations/master/All_Starbucks_Locations_in_the_US_-_Map.csv\")\n",
        "star.head()"
      ],
      "execution_count": 0,
      "outputs": [
        {
          "output_type": "execute_result",
          "data": {
            "text/html": [
              "<div>\n",
              "<style scoped>\n",
              "    .dataframe tbody tr th:only-of-type {\n",
              "        vertical-align: middle;\n",
              "    }\n",
              "\n",
              "    .dataframe tbody tr th {\n",
              "        vertical-align: top;\n",
              "    }\n",
              "\n",
              "    .dataframe thead th {\n",
              "        text-align: right;\n",
              "    }\n",
              "</style>\n",
              "<table border=\"1\" class=\"dataframe\">\n",
              "  <thead>\n",
              "    <tr style=\"text-align: right;\">\n",
              "      <th></th>\n",
              "      <th>Brand</th>\n",
              "      <th>Store Number</th>\n",
              "      <th>Name</th>\n",
              "      <th>Ownership Type</th>\n",
              "      <th>Facility ID</th>\n",
              "      <th>Features - Products</th>\n",
              "      <th>Features - Service</th>\n",
              "      <th>Features - Stations</th>\n",
              "      <th>Food Region</th>\n",
              "      <th>Venue Type</th>\n",
              "      <th>...</th>\n",
              "      <th>Street Line 1</th>\n",
              "      <th>Street Line 2</th>\n",
              "      <th>City</th>\n",
              "      <th>State</th>\n",
              "      <th>Zip</th>\n",
              "      <th>Country</th>\n",
              "      <th>Coordinates</th>\n",
              "      <th>Latitude</th>\n",
              "      <th>Longitude</th>\n",
              "      <th>Insert Date</th>\n",
              "    </tr>\n",
              "  </thead>\n",
              "  <tbody>\n",
              "    <tr>\n",
              "      <th>0</th>\n",
              "      <td>Starbucks</td>\n",
              "      <td>11854</td>\n",
              "      <td>Epping Main St</td>\n",
              "      <td>Company Owned</td>\n",
              "      <td>18228</td>\n",
              "      <td>Lunch, Oven-warmed Food, Reserve Amenity</td>\n",
              "      <td>Starbucks Card Mobile, Wireless Hotspot</td>\n",
              "      <td>Drive-Through</td>\n",
              "      <td>9999</td>\n",
              "      <td>Unknown</td>\n",
              "      <td>...</td>\n",
              "      <td>96 Calef Highway</td>\n",
              "      <td>NaN</td>\n",
              "      <td>Epping</td>\n",
              "      <td>NH</td>\n",
              "      <td>03042-2224</td>\n",
              "      <td>US</td>\n",
              "      <td>(43.031873, -71.073203)</td>\n",
              "      <td>43.031873</td>\n",
              "      <td>-71.073203</td>\n",
              "      <td>06/22/2012 06:17:10 PM</td>\n",
              "    </tr>\n",
              "    <tr>\n",
              "      <th>1</th>\n",
              "      <td>Starbucks</td>\n",
              "      <td>79420</td>\n",
              "      <td>Stop &amp; Shop-Exeter #204</td>\n",
              "      <td>Licensed</td>\n",
              "      <td>9956</td>\n",
              "      <td>NaN</td>\n",
              "      <td>Wireless Hotspot</td>\n",
              "      <td>NaN</td>\n",
              "      <td>9999</td>\n",
              "      <td>Unknown</td>\n",
              "      <td>...</td>\n",
              "      <td>139 Portsmouth Ave</td>\n",
              "      <td>NaN</td>\n",
              "      <td>Exeter</td>\n",
              "      <td>NH</td>\n",
              "      <td>03833-2105</td>\n",
              "      <td>US</td>\n",
              "      <td>(42.989763, -70.932044)</td>\n",
              "      <td>42.989763</td>\n",
              "      <td>-70.932044</td>\n",
              "      <td>06/22/2012 06:17:10 PM</td>\n",
              "    </tr>\n",
              "    <tr>\n",
              "      <th>2</th>\n",
              "      <td>Starbucks</td>\n",
              "      <td>3872</td>\n",
              "      <td>Target Greenland T-2530</td>\n",
              "      <td>Licensed</td>\n",
              "      <td>10933</td>\n",
              "      <td>NaN</td>\n",
              "      <td>Starbucks Card Mobile</td>\n",
              "      <td>NaN</td>\n",
              "      <td>9999</td>\n",
              "      <td>Unknown</td>\n",
              "      <td>...</td>\n",
              "      <td>1450 Greenland Rd</td>\n",
              "      <td>NaN</td>\n",
              "      <td>Greenland</td>\n",
              "      <td>NH</td>\n",
              "      <td>03840-2438</td>\n",
              "      <td>US</td>\n",
              "      <td>(43.04871, -70.816345)</td>\n",
              "      <td>43.048710</td>\n",
              "      <td>-70.816345</td>\n",
              "      <td>06/22/2012 06:17:10 PM</td>\n",
              "    </tr>\n",
              "    <tr>\n",
              "      <th>3</th>\n",
              "      <td>Starbucks</td>\n",
              "      <td>13448</td>\n",
              "      <td>Seabrook, Lafayette Rd</td>\n",
              "      <td>Company Owned</td>\n",
              "      <td>16980</td>\n",
              "      <td>Lunch, Oven-warmed Food, Reserve Amenity, Sire...</td>\n",
              "      <td>Starbucks Card Mobile, Wireless Hotspot</td>\n",
              "      <td>Drive-Through</td>\n",
              "      <td>9999</td>\n",
              "      <td>Unknown</td>\n",
              "      <td>...</td>\n",
              "      <td>271 Lafayette Rd</td>\n",
              "      <td>NaN</td>\n",
              "      <td>Seabrook</td>\n",
              "      <td>NH</td>\n",
              "      <td>03874-4512</td>\n",
              "      <td>US</td>\n",
              "      <td>(42.882128, -70.86808)</td>\n",
              "      <td>42.882128</td>\n",
              "      <td>-70.868080</td>\n",
              "      <td>06/22/2012 06:17:10 PM</td>\n",
              "    </tr>\n",
              "    <tr>\n",
              "      <th>4</th>\n",
              "      <td>Starbucks</td>\n",
              "      <td>10325</td>\n",
              "      <td>Portsmouth, Woodbury Avenue</td>\n",
              "      <td>Company Owned</td>\n",
              "      <td>17269</td>\n",
              "      <td>Lunch, Oven-warmed Food, Reserve Amenity</td>\n",
              "      <td>Starbucks Card Mobile, Wireless Hotspot</td>\n",
              "      <td>Drive-Through</td>\n",
              "      <td>9999</td>\n",
              "      <td>Unknown</td>\n",
              "      <td>...</td>\n",
              "      <td>1855 Woodbury Avenue</td>\n",
              "      <td>NaN</td>\n",
              "      <td>Portsmouth</td>\n",
              "      <td>NH</td>\n",
              "      <td>03801-3228</td>\n",
              "      <td>US</td>\n",
              "      <td>(43.092318, -70.792327)</td>\n",
              "      <td>43.092318</td>\n",
              "      <td>-70.792327</td>\n",
              "      <td>06/22/2012 06:17:10 PM</td>\n",
              "    </tr>\n",
              "  </tbody>\n",
              "</table>\n",
              "<p>5 rows × 23 columns</p>\n",
              "</div>"
            ],
            "text/plain": [
              "       Brand  Store Number                         Name Ownership Type  \\\n",
              "0  Starbucks         11854               Epping Main St  Company Owned   \n",
              "1  Starbucks         79420      Stop & Shop-Exeter #204       Licensed   \n",
              "2  Starbucks          3872      Target Greenland T-2530       Licensed   \n",
              "3  Starbucks         13448       Seabrook, Lafayette Rd  Company Owned   \n",
              "4  Starbucks         10325  Portsmouth, Woodbury Avenue  Company Owned   \n",
              "\n",
              "   Facility ID                                Features - Products  \\\n",
              "0        18228           Lunch, Oven-warmed Food, Reserve Amenity   \n",
              "1         9956                                                NaN   \n",
              "2        10933                                                NaN   \n",
              "3        16980  Lunch, Oven-warmed Food, Reserve Amenity, Sire...   \n",
              "4        17269           Lunch, Oven-warmed Food, Reserve Amenity   \n",
              "\n",
              "                        Features - Service Features - Stations  Food Region  \\\n",
              "0  Starbucks Card Mobile, Wireless Hotspot       Drive-Through         9999   \n",
              "1                         Wireless Hotspot                 NaN         9999   \n",
              "2                    Starbucks Card Mobile                 NaN         9999   \n",
              "3  Starbucks Card Mobile, Wireless Hotspot       Drive-Through         9999   \n",
              "4  Starbucks Card Mobile, Wireless Hotspot       Drive-Through         9999   \n",
              "\n",
              "  Venue Type  ...         Street Line 1 Street Line 2        City State  \\\n",
              "0    Unknown  ...      96 Calef Highway           NaN      Epping    NH   \n",
              "1    Unknown  ...    139 Portsmouth Ave           NaN      Exeter    NH   \n",
              "2    Unknown  ...     1450 Greenland Rd           NaN   Greenland    NH   \n",
              "3    Unknown  ...      271 Lafayette Rd           NaN    Seabrook    NH   \n",
              "4    Unknown  ...  1855 Woodbury Avenue           NaN  Portsmouth    NH   \n",
              "\n",
              "          Zip Country              Coordinates   Latitude  Longitude  \\\n",
              "0  03042-2224      US  (43.031873, -71.073203)  43.031873 -71.073203   \n",
              "1  03833-2105      US  (42.989763, -70.932044)  42.989763 -70.932044   \n",
              "2  03840-2438      US   (43.04871, -70.816345)  43.048710 -70.816345   \n",
              "3  03874-4512      US   (42.882128, -70.86808)  42.882128 -70.868080   \n",
              "4  03801-3228      US  (43.092318, -70.792327)  43.092318 -70.792327   \n",
              "\n",
              "              Insert Date  \n",
              "0  06/22/2012 06:17:10 PM  \n",
              "1  06/22/2012 06:17:10 PM  \n",
              "2  06/22/2012 06:17:10 PM  \n",
              "3  06/22/2012 06:17:10 PM  \n",
              "4  06/22/2012 06:17:10 PM  \n",
              "\n",
              "[5 rows x 23 columns]"
            ]
          },
          "metadata": {
            "tags": []
          },
          "execution_count": 5
        }
      ]
    },
    {
      "cell_type": "code",
      "metadata": {
        "id": "fyGw2kRwSXJp",
        "colab_type": "code",
        "outputId": "2163b70c-fb16-4348-c910-b2e69ebd3560",
        "colab": {
          "base_uri": "https://localhost:8080/",
          "height": 138
        }
      },
      "source": [
        "star.columns"
      ],
      "execution_count": 0,
      "outputs": [
        {
          "output_type": "execute_result",
          "data": {
            "text/plain": [
              "Index(['Brand', 'Store Number', 'Name', 'Ownership Type', 'Facility ID',\n",
              "       'Features - Products', 'Features - Service', 'Features - Stations',\n",
              "       'Food Region', 'Venue Type', 'Phone Number', 'Location',\n",
              "       'Street Address', 'Street Line 1', 'Street Line 2', 'City', 'State',\n",
              "       'Zip', 'Country', 'Coordinates', 'Latitude', 'Longitude',\n",
              "       'Insert Date'],\n",
              "      dtype='object')"
            ]
          },
          "metadata": {
            "tags": []
          },
          "execution_count": 7
        }
      ]
    },
    {
      "cell_type": "code",
      "metadata": {
        "id": "87MmJcIvX-kC",
        "colab_type": "code",
        "outputId": "4fdcfd63-935e-437c-de6c-1b7dccce7d6b",
        "colab": {
          "base_uri": "https://localhost:8080/",
          "height": 198
        }
      },
      "source": [
        "vote = pd.read_csv(\"https://raw.githubusercontent.com/kosukeimai/qss/master/MEASUREMENT/unvoting.csv\")\n",
        "vote.head()"
      ],
      "execution_count": 0,
      "outputs": [
        {
          "output_type": "execute_result",
          "data": {
            "text/html": [
              "<div>\n",
              "<style scoped>\n",
              "    .dataframe tbody tr th:only-of-type {\n",
              "        vertical-align: middle;\n",
              "    }\n",
              "\n",
              "    .dataframe tbody tr th {\n",
              "        vertical-align: top;\n",
              "    }\n",
              "\n",
              "    .dataframe thead th {\n",
              "        text-align: right;\n",
              "    }\n",
              "</style>\n",
              "<table border=\"1\" class=\"dataframe\">\n",
              "  <thead>\n",
              "    <tr style=\"text-align: right;\">\n",
              "      <th></th>\n",
              "      <th>Year</th>\n",
              "      <th>CountryAbb</th>\n",
              "      <th>CountryName</th>\n",
              "      <th>idealpoint</th>\n",
              "      <th>PctAgreeUS</th>\n",
              "      <th>PctAgreeRUSSIA</th>\n",
              "    </tr>\n",
              "  </thead>\n",
              "  <tbody>\n",
              "    <tr>\n",
              "      <th>0</th>\n",
              "      <td>1946</td>\n",
              "      <td>USA</td>\n",
              "      <td>United States of America</td>\n",
              "      <td>1.713689</td>\n",
              "      <td>1.0</td>\n",
              "      <td>0.214286</td>\n",
              "    </tr>\n",
              "    <tr>\n",
              "      <th>1</th>\n",
              "      <td>1947</td>\n",
              "      <td>USA</td>\n",
              "      <td>United States of America</td>\n",
              "      <td>1.812884</td>\n",
              "      <td>1.0</td>\n",
              "      <td>0.263158</td>\n",
              "    </tr>\n",
              "    <tr>\n",
              "      <th>2</th>\n",
              "      <td>1948</td>\n",
              "      <td>USA</td>\n",
              "      <td>United States of America</td>\n",
              "      <td>1.936166</td>\n",
              "      <td>1.0</td>\n",
              "      <td>0.127451</td>\n",
              "    </tr>\n",
              "    <tr>\n",
              "      <th>3</th>\n",
              "      <td>1949</td>\n",
              "      <td>USA</td>\n",
              "      <td>United States of America</td>\n",
              "      <td>1.876619</td>\n",
              "      <td>1.0</td>\n",
              "      <td>0.111111</td>\n",
              "    </tr>\n",
              "    <tr>\n",
              "      <th>4</th>\n",
              "      <td>1950</td>\n",
              "      <td>USA</td>\n",
              "      <td>United States of America</td>\n",
              "      <td>1.810646</td>\n",
              "      <td>1.0</td>\n",
              "      <td>0.173077</td>\n",
              "    </tr>\n",
              "  </tbody>\n",
              "</table>\n",
              "</div>"
            ],
            "text/plain": [
              "   Year CountryAbb               CountryName  idealpoint  PctAgreeUS  \\\n",
              "0  1946        USA  United States of America    1.713689         1.0   \n",
              "1  1947        USA  United States of America    1.812884         1.0   \n",
              "2  1948        USA  United States of America    1.936166         1.0   \n",
              "3  1949        USA  United States of America    1.876619         1.0   \n",
              "4  1950        USA  United States of America    1.810646         1.0   \n",
              "\n",
              "   PctAgreeRUSSIA  \n",
              "0        0.214286  \n",
              "1        0.263158  \n",
              "2        0.127451  \n",
              "3        0.111111  \n",
              "4        0.173077  "
            ]
          },
          "metadata": {
            "tags": []
          },
          "execution_count": 5
        }
      ]
    },
    {
      "cell_type": "code",
      "metadata": {
        "id": "P5p524iC_aEK",
        "colab_type": "code",
        "colab": {}
      },
      "source": [
        ""
      ],
      "execution_count": 0,
      "outputs": []
    },
    {
      "cell_type": "code",
      "metadata": {
        "id": "98plaByrY4C7",
        "colab_type": "code",
        "colab": {}
      },
      "source": [
        "pcus=np.array(vote.groupby('Year')['PctAgreeUS'].mean())"
      ],
      "execution_count": 0,
      "outputs": []
    },
    {
      "cell_type": "code",
      "metadata": {
        "id": "KAqYzLDVY8RF",
        "colab_type": "code",
        "outputId": "7ae8fd2f-089f-4fe1-acb0-60e79971e818",
        "colab": {
          "base_uri": "https://localhost:8080/",
          "height": 198
        }
      },
      "source": [
        "idp=pd.DataFrame()\n",
        "idp['pcus']=pcus[:]\n",
        "idp['yr']=vote.Year\n",
        "idp.head()"
      ],
      "execution_count": 0,
      "outputs": [
        {
          "output_type": "execute_result",
          "data": {
            "text/html": [
              "<div>\n",
              "<style scoped>\n",
              "    .dataframe tbody tr th:only-of-type {\n",
              "        vertical-align: middle;\n",
              "    }\n",
              "\n",
              "    .dataframe tbody tr th {\n",
              "        vertical-align: top;\n",
              "    }\n",
              "\n",
              "    .dataframe thead th {\n",
              "        text-align: right;\n",
              "    }\n",
              "</style>\n",
              "<table border=\"1\" class=\"dataframe\">\n",
              "  <thead>\n",
              "    <tr style=\"text-align: right;\">\n",
              "      <th></th>\n",
              "      <th>pcus</th>\n",
              "      <th>yr</th>\n",
              "    </tr>\n",
              "  </thead>\n",
              "  <tbody>\n",
              "    <tr>\n",
              "      <th>0</th>\n",
              "      <td>0.584562</td>\n",
              "      <td>1946</td>\n",
              "    </tr>\n",
              "    <tr>\n",
              "      <th>1</th>\n",
              "      <td>0.621445</td>\n",
              "      <td>1947</td>\n",
              "    </tr>\n",
              "    <tr>\n",
              "      <th>2</th>\n",
              "      <td>0.577968</td>\n",
              "      <td>1948</td>\n",
              "    </tr>\n",
              "    <tr>\n",
              "      <th>3</th>\n",
              "      <td>0.540646</td>\n",
              "      <td>1949</td>\n",
              "    </tr>\n",
              "    <tr>\n",
              "      <th>4</th>\n",
              "      <td>0.634707</td>\n",
              "      <td>1950</td>\n",
              "    </tr>\n",
              "  </tbody>\n",
              "</table>\n",
              "</div>"
            ],
            "text/plain": [
              "       pcus    yr\n",
              "0  0.584562  1946\n",
              "1  0.621445  1947\n",
              "2  0.577968  1948\n",
              "3  0.540646  1949\n",
              "4  0.634707  1950"
            ]
          },
          "metadata": {
            "tags": []
          },
          "execution_count": 7
        }
      ]
    },
    {
      "cell_type": "code",
      "metadata": {
        "id": "xBEgQZKoZbEt",
        "colab_type": "code",
        "colab": {}
      },
      "source": [
        "X=idp.yr\n",
        "y=idp.pcus"
      ],
      "execution_count": 0,
      "outputs": []
    },
    {
      "cell_type": "code",
      "metadata": {
        "id": "7BfkkMZYZ6K-",
        "colab_type": "code",
        "outputId": "aa50ce3c-0380-461c-d011-37a751873563",
        "colab": {
          "base_uri": "https://localhost:8080/",
          "height": 287
        }
      },
      "source": [
        "plt.scatter(X,y,c='purple')"
      ],
      "execution_count": 0,
      "outputs": [
        {
          "output_type": "execute_result",
          "data": {
            "text/plain": [
              "<matplotlib.collections.PathCollection at 0x7fe6711d4128>"
            ]
          },
          "metadata": {
            "tags": []
          },
          "execution_count": 9
        },
        {
          "output_type": "display_data",
          "data": {
            "image/png": "[encoded data removed]",
            "text/plain": [
              "<Figure size 432x288 with 1 Axes>"
            ]
          },
          "metadata": {
            "tags": []
          }
        }
      ]
    },
    {
      "cell_type": "code",
      "metadata": {
        "id": "T0W7-M6xaNr2",
        "colab_type": "code",
        "colab": {}
      },
      "source": [
        "X = X[:,np.newaxis]\n",
        "y = y[:,np.newaxis]"
      ],
      "execution_count": 0,
      "outputs": []
    },
    {
      "cell_type": "code",
      "metadata": {
        "id": "xv4-QqvYaQgm",
        "colab_type": "code",
        "colab": {}
      },
      "source": [
        "def Polyreg(deg=7, **kwargs):\n",
        "  return make_pipeline(\n",
        "      PolynomialFeatures(deg),\n",
        "      LinearRegression( **kwargs)\n",
        "  )"
      ],
      "execution_count": 0,
      "outputs": []
    },
    {
      "cell_type": "code",
      "metadata": {
        "id": "Gu5LfuuubJJM",
        "colab_type": "code",
        "colab": {}
      },
      "source": [
        "poly=Polyreg(deg=7)"
      ],
      "execution_count": 0,
      "outputs": []
    },
    {
      "cell_type": "code",
      "metadata": {
        "id": "vEH53XU8brHG",
        "colab_type": "code",
        "colab": {}
      },
      "source": [
        "yval=poly.fit(X,y).predict(X)"
      ],
      "execution_count": 0,
      "outputs": []
    },
    {
      "cell_type": "code",
      "metadata": {
        "id": "pd4-F_fbbyPu",
        "colab_type": "code",
        "outputId": "9ef1c3c6-6f00-43c1-b0f9-97550aab159a",
        "colab": {
          "base_uri": "https://localhost:8080/",
          "height": 287
        }
      },
      "source": [
        "plt.scatter(X,y,c='purple')\n",
        "plt.plot(X,yval,c='orange')"
      ],
      "execution_count": 0,
      "outputs": [
        {
          "output_type": "execute_result",
          "data": {
            "text/plain": [
              "[<matplotlib.lines.Line2D at 0x7fe66e93c048>]"
            ]
          },
          "metadata": {
            "tags": []
          },
          "execution_count": 14
        },
        {
          "output_type": "display_data",
          "data": {
            "image/png": "[encoded data removed]",
            "text/plain": [
              "<Figure size 432x288 with 1 Axes>"
            ]
          },
          "metadata": {
            "tags": []
          }
        }
      ]
    },
    {
      "cell_type": "code",
      "metadata": {
        "id": "koT_ywsRdrRx",
        "colab_type": "code",
        "colab": {}
      },
      "source": [
        "degree=np.arange(0, 10)\n",
        "train_score, val_score = validation_curve(Polyreg(),X,y,\n",
        "                                          'polynomialfeatures__degree',\n",
        "                                          degree,\n",
        "                                          cv=4)"
      ],
      "execution_count": 0,
      "outputs": []
    },
    {
      "cell_type": "code",
      "metadata": {
        "id": "xRQx5tQzfGBl",
        "colab_type": "code",
        "outputId": "c101ca76-66e0-44a2-d3d1-911a0ab1b356",
        "colab": {
          "base_uri": "https://localhost:8080/",
          "height": 34
        }
      },
      "source": [
        "train_score.shape"
      ],
      "execution_count": 0,
      "outputs": [
        {
          "output_type": "execute_result",
          "data": {
            "text/plain": [
              "(10, 4)"
            ]
          },
          "metadata": {
            "tags": []
          },
          "execution_count": 17
        }
      ]
    },
    {
      "cell_type": "code",
      "metadata": {
        "id": "MP24EWGfPMvU",
        "colab_type": "code",
        "outputId": "b3f8857b-e585-40a8-a705-1b9209e17ba3",
        "colab": {
          "base_uri": "https://localhost:8080/",
          "height": 286
        }
      },
      "source": [
        "plt.plot(degree, np.median(train_score, 1), color='blue', label='training score')\n",
        "plt.plot(degree, np.median(val_score, 1), color='red', label='validation score')\n",
        "plt.legend(loc='best')\n",
        "\n",
        "\n",
        "plt.xlabel('degree')\n",
        "plt.ylabel('score');"
      ],
      "execution_count": 0,
      "outputs": [
        {
          "output_type": "display_data",
          "data": {
            "image/png": "[encoded data removed]",
            "text/plain": [
              "<Figure size 432x288 with 1 Axes>"
            ]
          },
          "metadata": {
            "tags": []
          }
        }
      ]
    },
    {
      "cell_type": "code",
      "metadata": {
        "id": "88HDeYylR6Ag",
        "colab_type": "code",
        "outputId": "7120eca2-1c78-4bf1-e0fc-2195402e4718",
        "colab": {
          "base_uri": "https://localhost:8080/",
          "height": 247
        }
      },
      "source": [
        "house=pd.read_csv(\"https://raw.githubusercontent.com/dennisdt/kc_house_price/master/kc_house_data.csv\")\n",
        "house.head()"
      ],
      "execution_count": 0,
      "outputs": [
        {
          "output_type": "execute_result",
          "data": {
            "text/html": [
              "<div>\n",
              "<style scoped>\n",
              "    .dataframe tbody tr th:only-of-type {\n",
              "        vertical-align: middle;\n",
              "    }\n",
              "\n",
              "    .dataframe tbody tr th {\n",
              "        vertical-align: top;\n",
              "    }\n",
              "\n",
              "    .dataframe thead th {\n",
              "        text-align: right;\n",
              "    }\n",
              "</style>\n",
              "<table border=\"1\" class=\"dataframe\">\n",
              "  <thead>\n",
              "    <tr style=\"text-align: right;\">\n",
              "      <th></th>\n",
              "      <th>id</th>\n",
              "      <th>date</th>\n",
              "      <th>price</th>\n",
              "      <th>bedrooms</th>\n",
              "      <th>bathrooms</th>\n",
              "      <th>sqft_living</th>\n",
              "      <th>sqft_lot</th>\n",
              "      <th>floors</th>\n",
              "      <th>waterfront</th>\n",
              "      <th>view</th>\n",
              "      <th>...</th>\n",
              "      <th>grade</th>\n",
              "      <th>sqft_above</th>\n",
              "      <th>sqft_basement</th>\n",
              "      <th>yr_built</th>\n",
              "      <th>yr_renovated</th>\n",
              "      <th>zipcode</th>\n",
              "      <th>lat</th>\n",
              "      <th>long</th>\n",
              "      <th>sqft_living15</th>\n",
              "      <th>sqft_lot15</th>\n",
              "    </tr>\n",
              "  </thead>\n",
              "  <tbody>\n",
              "    <tr>\n",
              "      <th>0</th>\n",
              "      <td>7129300520</td>\n",
              "      <td>20141013T000000</td>\n",
              "      <td>221900.0</td>\n",
              "      <td>3</td>\n",
              "      <td>1.00</td>\n",
              "      <td>1180</td>\n",
              "      <td>5650</td>\n",
              "      <td>1.0</td>\n",
              "      <td>0</td>\n",
              "      <td>0</td>\n",
              "      <td>...</td>\n",
              "      <td>7</td>\n",
              "      <td>1180</td>\n",
              "      <td>0</td>\n",
              "      <td>1955</td>\n",
              "      <td>0</td>\n",
              "      <td>98178</td>\n",
              "      <td>47.5112</td>\n",
              "      <td>-122.257</td>\n",
              "      <td>1340</td>\n",
              "      <td>5650</td>\n",
              "    </tr>\n",
              "    <tr>\n",
              "      <th>1</th>\n",
              "      <td>6414100192</td>\n",
              "      <td>20141209T000000</td>\n",
              "      <td>538000.0</td>\n",
              "      <td>3</td>\n",
              "      <td>2.25</td>\n",
              "      <td>2570</td>\n",
              "      <td>7242</td>\n",
              "      <td>2.0</td>\n",
              "      <td>0</td>\n",
              "      <td>0</td>\n",
              "      <td>...</td>\n",
              "      <td>7</td>\n",
              "      <td>2170</td>\n",
              "      <td>400</td>\n",
              "      <td>1951</td>\n",
              "      <td>1991</td>\n",
              "      <td>98125</td>\n",
              "      <td>47.7210</td>\n",
              "      <td>-122.319</td>\n",
              "      <td>1690</td>\n",
              "      <td>7639</td>\n",
              "    </tr>\n",
              "    <tr>\n",
              "      <th>2</th>\n",
              "      <td>5631500400</td>\n",
              "      <td>20150225T000000</td>\n",
              "      <td>180000.0</td>\n",
              "      <td>2</td>\n",
              "      <td>1.00</td>\n",
              "      <td>770</td>\n",
              "      <td>10000</td>\n",
              "      <td>1.0</td>\n",
              "      <td>0</td>\n",
              "      <td>0</td>\n",
              "      <td>...</td>\n",
              "      <td>6</td>\n",
              "      <td>770</td>\n",
              "      <td>0</td>\n",
              "      <td>1933</td>\n",
              "      <td>0</td>\n",
              "      <td>98028</td>\n",
              "      <td>47.7379</td>\n",
              "      <td>-122.233</td>\n",
              "      <td>2720</td>\n",
              "      <td>8062</td>\n",
              "    </tr>\n",
              "    <tr>\n",
              "      <th>3</th>\n",
              "      <td>2487200875</td>\n",
              "      <td>20141209T000000</td>\n",
              "      <td>604000.0</td>\n",
              "      <td>4</td>\n",
              "      <td>3.00</td>\n",
              "      <td>1960</td>\n",
              "      <td>5000</td>\n",
              "      <td>1.0</td>\n",
              "      <td>0</td>\n",
              "      <td>0</td>\n",
              "      <td>...</td>\n",
              "      <td>7</td>\n",
              "      <td>1050</td>\n",
              "      <td>910</td>\n",
              "      <td>1965</td>\n",
              "      <td>0</td>\n",
              "      <td>98136</td>\n",
              "      <td>47.5208</td>\n",
              "      <td>-122.393</td>\n",
              "      <td>1360</td>\n",
              "      <td>5000</td>\n",
              "    </tr>\n",
              "    <tr>\n",
              "      <th>4</th>\n",
              "      <td>1954400510</td>\n",
              "      <td>20150218T000000</td>\n",
              "      <td>510000.0</td>\n",
              "      <td>3</td>\n",
              "      <td>2.00</td>\n",
              "      <td>1680</td>\n",
              "      <td>8080</td>\n",
              "      <td>1.0</td>\n",
              "      <td>0</td>\n",
              "      <td>0</td>\n",
              "      <td>...</td>\n",
              "      <td>8</td>\n",
              "      <td>1680</td>\n",
              "      <td>0</td>\n",
              "      <td>1987</td>\n",
              "      <td>0</td>\n",
              "      <td>98074</td>\n",
              "      <td>47.6168</td>\n",
              "      <td>-122.045</td>\n",
              "      <td>1800</td>\n",
              "      <td>7503</td>\n",
              "    </tr>\n",
              "  </tbody>\n",
              "</table>\n",
              "<p>5 rows × 21 columns</p>\n",
              "</div>"
            ],
            "text/plain": [
              "           id             date     price  bedrooms  bathrooms  sqft_living  \\\n",
              "0  7129300520  20141013T000000  221900.0         3       1.00         1180   \n",
              "1  6414100192  20141209T000000  538000.0         3       2.25         2570   \n",
              "2  5631500400  20150225T000000  180000.0         2       1.00          770   \n",
              "3  2487200875  20141209T000000  604000.0         4       3.00         1960   \n",
              "4  1954400510  20150218T000000  510000.0         3       2.00         1680   \n",
              "\n",
              "   sqft_lot  floors  waterfront  view  ...  grade  sqft_above  sqft_basement  \\\n",
              "0      5650     1.0           0     0  ...      7        1180              0   \n",
              "1      7242     2.0           0     0  ...      7        2170            400   \n",
              "2     10000     1.0           0     0  ...      6         770              0   \n",
              "3      5000     1.0           0     0  ...      7        1050            910   \n",
              "4      8080     1.0           0     0  ...      8        1680              0   \n",
              "\n",
              "   yr_built  yr_renovated  zipcode      lat     long  sqft_living15  \\\n",
              "0      1955             0    98178  47.5112 -122.257           1340   \n",
              "1      1951          1991    98125  47.7210 -122.319           1690   \n",
              "2      1933             0    98028  47.7379 -122.233           2720   \n",
              "3      1965             0    98136  47.5208 -122.393           1360   \n",
              "4      1987             0    98074  47.6168 -122.045           1800   \n",
              "\n",
              "   sqft_lot15  \n",
              "0        5650  \n",
              "1        7639  \n",
              "2        8062  \n",
              "3        5000  \n",
              "4        7503  \n",
              "\n",
              "[5 rows x 21 columns]"
            ]
          },
          "metadata": {
            "tags": []
          },
          "execution_count": 20
        }
      ]
    }
  ]
}