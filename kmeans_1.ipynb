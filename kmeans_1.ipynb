{
  "nbformat": 4,
  "nbformat_minor": 0,
  "metadata": {
    "colab": {
      "name": "kmeans 1.ipynb",
      "version": "0.3.2",
      "provenance": [],
      "collapsed_sections": [],
      "include_colab_link": true
    },
    "kernelspec": {
      "name": "python3",
      "display_name": "Python 3"
    }
  },
  "cells": [
    {
      "cell_type": "markdown",
      "metadata": {
        "id": "view-in-github",
        "colab_type": "text"
      },
      "source": [
        "<a href=\"https://colab.research.google.com/github/likaiwen1128/colab/blob/master/kmeans_1.ipynb\" target=\"_parent\"><img src=\"https://colab.research.google.com/assets/colab-badge.svg\" alt=\"Open In Colab\"/></a>"
      ]
    },
    {
      "cell_type": "markdown",
      "metadata": {
        "id": "AB7PZ3_rTiiW",
        "colab_type": "text"
      },
      "source": [
        "## 0. Imports"
      ]
    },
    {
      "cell_type": "code",
      "metadata": {
        "id": "MmDN3Fn4sMe_",
        "colab_type": "code",
        "colab": {}
      },
      "source": [
        "import pandas as pd\n",
        "import numpy as np\n",
        "import matplotlib.pyplot as plt\n",
        "import altair as alt\n",
        "from numpy.random import randint\n",
        "from math import sqrt\n",
        "from vega_datasets import data"
      ],
      "execution_count": 0,
      "outputs": []
    },
    {
      "cell_type": "markdown",
      "metadata": {
        "id": "AvDmIGakTp2A",
        "colab_type": "text"
      },
      "source": [
        "## Assignment\n",
        "The following lines of code create data points in 4 clusters or 'blobs'. \n",
        "\n"
      ]
    },
    {
      "cell_type": "code",
      "metadata": {
        "id": "Z1z1xCzXr4ax",
        "colab_type": "code",
        "colab": {}
      },
      "source": [
        "from sklearn.datasets.samples_generator import make_blobs\n",
        "X, which_blob = make_blobs(n_samples=300, centers=4,cluster_std=0.60, random_state=0)"
      ],
      "execution_count": 0,
      "outputs": []
    },
    {
      "cell_type": "markdown",
      "metadata": {
        "id": "MRjGMPtdhw0A",
        "colab_type": "text"
      },
      "source": [
        "Your assignment is to create a k-means clustering algorithm from scratch producing a sequence of images representing the process in progress. \n",
        "\n",
        "Some constraints:\n",
        "* Don't copy something off the web.\n",
        "* Use `pandas` to store the data\n",
        "* Use `altair` to make the graphs\n",
        "\n",
        "It's good for your soul to figure stuff out on your own.  And with friends.  And with new friends at Stack Overflow."
      ]
    },
    {
      "cell_type": "markdown",
      "metadata": {
        "id": "LblVr6RxodGh",
        "colab_type": "text"
      },
      "source": [
        "## A k-means clustering algorithm\n",
        "\n",
        "1. Randomly assign the blob points to groups.\n",
        "\n",
        "2. Calculate the centroids of those groups.\n",
        "3. Assign blob points to groups based on which centroid is closest.\n",
        "\n",
        "Repeat Steps 2 and 3 until ... the centroids stop moving very much.  For this assignment, you can determine this visually.  If you are ambitious, you could measure the movement of the centroids and stop when it is lower than a set level."
      ]
    },
    {
      "cell_type": "markdown",
      "metadata": {
        "id": "tzz42hISp19g",
        "colab_type": "text"
      },
      "source": [
        "## Hints, advice\n",
        "\n",
        "*   Your first order of business is to explore the output of `make_blobs`.  'type()' and `.shape` can be useful.\n",
        "*   I found the dataframe method `groupby`helpful, particularly once you understand what its output is.\n",
        "* You are probably going to want to make some functions that operate on columns of your dataframe.  Define an ordinary function and then use `np.vectorize` to make it apply to vectors/columns/arrays.\n",
        "* The notebook is an interesting environment in which to code.  You can conduct experiments to see how things work and then use text cells to document what you found. \n",
        "* I found it awkward to have a loop produce a sequence of Altair charts.  I've made some progress on figuring this out (ie name your charts and use `display()`), but I'm not all the way there.\n",
        "\n",
        "Good luck.\n",
        "\n"
      ]
    },
    {
      "cell_type": "code",
      "metadata": {
        "id": "uiItQTSP0Unk",
        "colab_type": "code",
        "colab": {}
      },
      "source": [
        "import pandas as pd\n",
        "import altair as alt\n",
        "import numpy as np\n"
      ],
      "execution_count": 0,
      "outputs": []
    },
    {
      "cell_type": "code",
      "metadata": {
        "id": "UJE2fKTLxI_K",
        "colab_type": "code",
        "colab": {}
      },
      "source": [
        "from sklearn.datasets.samples_generator import make_blobs\n",
        "X, which_blob = make_blobs(n_samples=300, centers=4,cluster_std=0.60, random_state=0)"
      ],
      "execution_count": 0,
      "outputs": []
    },
    {
      "cell_type": "code",
      "metadata": {
        "id": "hAdz583N0pwz",
        "colab_type": "code",
        "outputId": "7c4dcc16-e133-42c0-ba7f-f691a15edf1a",
        "colab": {
          "base_uri": "https://localhost:8080/",
          "height": 269
        }
      },
      "source": [
        "plt.scatter(X[:,0],X[:,1],s=50);"
      ],
      "execution_count": 0,
      "outputs": [
        {
          "output_type": "display_data",
          "data": {
            "image/png": "[encoded data removed]",
            "text/plain": [
              "<Figure size 432x288 with 1 Axes>"
            ]
          },
          "metadata": {
            "tags": []
          }
        }
      ]
    },
    {
      "cell_type": "code",
      "metadata": {
        "id": "wGToeiD5AiJl",
        "colab_type": "code",
        "colab": {}
      },
      "source": [
        ""
      ],
      "execution_count": 0,
      "outputs": []
    },
    {
      "cell_type": "code",
      "metadata": {
        "id": "Tn3JhZU11grP",
        "colab_type": "code",
        "outputId": "e889462a-d1ad-4e7d-f1e8-83218bcfb40f",
        "colab": {
          "base_uri": "https://localhost:8080/",
          "height": 33
        }
      },
      "source": [
        "print(X.shape)"
      ],
      "execution_count": 0,
      "outputs": [
        {
          "output_type": "stream",
          "text": [
            "(300, 2)\n"
          ],
          "name": "stdout"
        }
      ]
    },
    {
      "cell_type": "code",
      "metadata": {
        "id": "sM6LsW8z2k09",
        "colab_type": "code",
        "outputId": "ba7a4d89-6d71-4542-9c64-5828d52b0af8",
        "colab": {
          "base_uri": "https://localhost:8080/",
          "height": 33
        }
      },
      "source": [
        "type(X)"
      ],
      "execution_count": 0,
      "outputs": [
        {
          "output_type": "execute_result",
          "data": {
            "text/plain": [
              "numpy.ndarray"
            ]
          },
          "metadata": {
            "tags": []
          },
          "execution_count": 7
        }
      ]
    },
    {
      "cell_type": "code",
      "metadata": {
        "id": "VzZ7rOFF2nWP",
        "colab_type": "code",
        "outputId": "d0761db5-122e-4eca-d281-71436d33cb28",
        "colab": {
          "base_uri": "https://localhost:8080/",
          "height": 184
        }
      },
      "source": [
        "X[0:10]"
      ],
      "execution_count": 0,
      "outputs": [
        {
          "output_type": "execute_result",
          "data": {
            "text/plain": [
              "array([[ 0.83685684,  2.13635938],\n",
              "       [-1.4136581 ,  7.40962324],\n",
              "       [ 1.15521298,  5.09961887],\n",
              "       [-1.01861632,  7.81491465],\n",
              "       [ 1.27135141,  1.89254207],\n",
              "       [ 3.43761754,  0.26165417],\n",
              "       [-1.80822253,  1.59701749],\n",
              "       [ 1.41372442,  4.38117707],\n",
              "       [-0.20493217,  8.43209665],\n",
              "       [-0.71109961,  8.66043846]])"
            ]
          },
          "metadata": {
            "tags": []
          },
          "execution_count": 8
        }
      ]
    },
    {
      "cell_type": "code",
      "metadata": {
        "id": "5qTqmfOh4n4x",
        "colab_type": "code",
        "outputId": "54d39c35-d949-4702-a0f3-3d2c837d4e78",
        "colab": {
          "base_uri": "https://localhost:8080/",
          "height": 196
        }
      },
      "source": [
        "blobs=pd.DataFrame()\n",
        "blobs['x']=X[:,0]\n",
        "blobs['y']=X[:,1]\n",
        "blobs['blobgroup']=which_blob\n",
        "blobs.head()"
      ],
      "execution_count": 0,
      "outputs": [
        {
          "output_type": "execute_result",
          "data": {
            "text/html": [
              "<div>\n",
              "<style scoped>\n",
              "    .dataframe tbody tr th:only-of-type {\n",
              "        vertical-align: middle;\n",
              "    }\n",
              "\n",
              "    .dataframe tbody tr th {\n",
              "        vertical-align: top;\n",
              "    }\n",
              "\n",
              "    .dataframe thead th {\n",
              "        text-align: right;\n",
              "    }\n",
              "</style>\n",
              "<table border=\"1\" class=\"dataframe\">\n",
              "  <thead>\n",
              "    <tr style=\"text-align: right;\">\n",
              "      <th></th>\n",
              "      <th>x</th>\n",
              "      <th>y</th>\n",
              "      <th>blobgroup</th>\n",
              "    </tr>\n",
              "  </thead>\n",
              "  <tbody>\n",
              "    <tr>\n",
              "      <th>0</th>\n",
              "      <td>0.836857</td>\n",
              "      <td>2.136359</td>\n",
              "      <td>1</td>\n",
              "    </tr>\n",
              "    <tr>\n",
              "      <th>1</th>\n",
              "      <td>-1.413658</td>\n",
              "      <td>7.409623</td>\n",
              "      <td>3</td>\n",
              "    </tr>\n",
              "    <tr>\n",
              "      <th>2</th>\n",
              "      <td>1.155213</td>\n",
              "      <td>5.099619</td>\n",
              "      <td>0</td>\n",
              "    </tr>\n",
              "    <tr>\n",
              "      <th>3</th>\n",
              "      <td>-1.018616</td>\n",
              "      <td>7.814915</td>\n",
              "      <td>3</td>\n",
              "    </tr>\n",
              "    <tr>\n",
              "      <th>4</th>\n",
              "      <td>1.271351</td>\n",
              "      <td>1.892542</td>\n",
              "      <td>1</td>\n",
              "    </tr>\n",
              "  </tbody>\n",
              "</table>\n",
              "</div>"
            ],
            "text/plain": [
              "          x         y  blobgroup\n",
              "0  0.836857  2.136359          1\n",
              "1 -1.413658  7.409623          3\n",
              "2  1.155213  5.099619          0\n",
              "3 -1.018616  7.814915          3\n",
              "4  1.271351  1.892542          1"
            ]
          },
          "metadata": {
            "tags": []
          },
          "execution_count": 35
        }
      ]
    },
    {
      "cell_type": "code",
      "metadata": {
        "id": "SEjbq2OuYzp1",
        "colab_type": "code",
        "outputId": "7113d3f7-b688-4427-bdc2-0adbd972c733",
        "colab": {
          "base_uri": "https://localhost:8080/",
          "height": 196
        }
      },
      "source": [
        "blobgroupre=np.random.randint(4, size=300)\n",
        "blobs['blobgroupre']=blobgroupre\n",
        "blobs.head()"
      ],
      "execution_count": 0,
      "outputs": [
        {
          "output_type": "execute_result",
          "data": {
            "text/html": [
              "<div>\n",
              "<style scoped>\n",
              "    .dataframe tbody tr th:only-of-type {\n",
              "        vertical-align: middle;\n",
              "    }\n",
              "\n",
              "    .dataframe tbody tr th {\n",
              "        vertical-align: top;\n",
              "    }\n",
              "\n",
              "    .dataframe thead th {\n",
              "        text-align: right;\n",
              "    }\n",
              "</style>\n",
              "<table border=\"1\" class=\"dataframe\">\n",
              "  <thead>\n",
              "    <tr style=\"text-align: right;\">\n",
              "      <th></th>\n",
              "      <th>x</th>\n",
              "      <th>y</th>\n",
              "      <th>blobgroup</th>\n",
              "      <th>blobgroupre</th>\n",
              "    </tr>\n",
              "  </thead>\n",
              "  <tbody>\n",
              "    <tr>\n",
              "      <th>0</th>\n",
              "      <td>0.836857</td>\n",
              "      <td>2.136359</td>\n",
              "      <td>1</td>\n",
              "      <td>3</td>\n",
              "    </tr>\n",
              "    <tr>\n",
              "      <th>1</th>\n",
              "      <td>-1.413658</td>\n",
              "      <td>7.409623</td>\n",
              "      <td>3</td>\n",
              "      <td>2</td>\n",
              "    </tr>\n",
              "    <tr>\n",
              "      <th>2</th>\n",
              "      <td>1.155213</td>\n",
              "      <td>5.099619</td>\n",
              "      <td>0</td>\n",
              "      <td>2</td>\n",
              "    </tr>\n",
              "    <tr>\n",
              "      <th>3</th>\n",
              "      <td>-1.018616</td>\n",
              "      <td>7.814915</td>\n",
              "      <td>3</td>\n",
              "      <td>1</td>\n",
              "    </tr>\n",
              "    <tr>\n",
              "      <th>4</th>\n",
              "      <td>1.271351</td>\n",
              "      <td>1.892542</td>\n",
              "      <td>1</td>\n",
              "      <td>1</td>\n",
              "    </tr>\n",
              "  </tbody>\n",
              "</table>\n",
              "</div>"
            ],
            "text/plain": [
              "          x         y  blobgroup  blobgroupre\n",
              "0  0.836857  2.136359          1            3\n",
              "1 -1.413658  7.409623          3            2\n",
              "2  1.155213  5.099619          0            2\n",
              "3 -1.018616  7.814915          3            1\n",
              "4  1.271351  1.892542          1            1"
            ]
          },
          "metadata": {
            "tags": []
          },
          "execution_count": 11
        }
      ]
    },
    {
      "cell_type": "code",
      "metadata": {
        "id": "kdEjMOeaXG3Z",
        "colab_type": "code",
        "outputId": "eec0f489-ba0b-46a6-bb72-579d3f99a98f",
        "colab": {
          "base_uri": "https://localhost:8080/",
          "height": 196
        }
      },
      "source": [
        "blobgp2=blobs.groupby(['blobgroupre'])['x','y'].mean()\n",
        "blobgp2\n"
      ],
      "execution_count": 0,
      "outputs": [
        {
          "output_type": "execute_result",
          "data": {
            "text/html": [
              "<div>\n",
              "<style scoped>\n",
              "    .dataframe tbody tr th:only-of-type {\n",
              "        vertical-align: middle;\n",
              "    }\n",
              "\n",
              "    .dataframe tbody tr th {\n",
              "        vertical-align: top;\n",
              "    }\n",
              "\n",
              "    .dataframe thead th {\n",
              "        text-align: right;\n",
              "    }\n",
              "</style>\n",
              "<table border=\"1\" class=\"dataframe\">\n",
              "  <thead>\n",
              "    <tr style=\"text-align: right;\">\n",
              "      <th></th>\n",
              "      <th>x</th>\n",
              "      <th>y</th>\n",
              "    </tr>\n",
              "    <tr>\n",
              "      <th>blobgroupre</th>\n",
              "      <th></th>\n",
              "      <th></th>\n",
              "    </tr>\n",
              "  </thead>\n",
              "  <tbody>\n",
              "    <tr>\n",
              "      <th>0</th>\n",
              "      <td>-0.345799</td>\n",
              "      <td>4.230298</td>\n",
              "    </tr>\n",
              "    <tr>\n",
              "      <th>1</th>\n",
              "      <td>0.161577</td>\n",
              "      <td>3.490196</td>\n",
              "    </tr>\n",
              "    <tr>\n",
              "      <th>2</th>\n",
              "      <td>0.157983</td>\n",
              "      <td>4.033334</td>\n",
              "    </tr>\n",
              "    <tr>\n",
              "      <th>3</th>\n",
              "      <td>-0.038009</td>\n",
              "      <td>4.146543</td>\n",
              "    </tr>\n",
              "  </tbody>\n",
              "</table>\n",
              "</div>"
            ],
            "text/plain": [
              "                    x         y\n",
              "blobgroupre                    \n",
              "0           -0.345799  4.230298\n",
              "1            0.161577  3.490196\n",
              "2            0.157983  4.033334\n",
              "3           -0.038009  4.146543"
            ]
          },
          "metadata": {
            "tags": []
          },
          "execution_count": 12
        }
      ]
    },
    {
      "cell_type": "code",
      "metadata": {
        "id": "s0exZ8suDmq7",
        "colab_type": "code",
        "outputId": "5bf9ad5a-aebb-4f78-ef02-2b3935a3edac",
        "colab": {
          "base_uri": "https://localhost:8080/",
          "height": 196
        }
      },
      "source": [
        "blobgp=blobs.groupby(['blobgroup'])['x','y'].mean()\n",
        "blobgp"
      ],
      "execution_count": 0,
      "outputs": [
        {
          "output_type": "execute_result",
          "data": {
            "text/html": [
              "<div>\n",
              "<style scoped>\n",
              "    .dataframe tbody tr th:only-of-type {\n",
              "        vertical-align: middle;\n",
              "    }\n",
              "\n",
              "    .dataframe tbody tr th {\n",
              "        vertical-align: top;\n",
              "    }\n",
              "\n",
              "    .dataframe thead th {\n",
              "        text-align: right;\n",
              "    }\n",
              "</style>\n",
              "<table border=\"1\" class=\"dataframe\">\n",
              "  <thead>\n",
              "    <tr style=\"text-align: right;\">\n",
              "      <th></th>\n",
              "      <th>x</th>\n",
              "      <th>y</th>\n",
              "    </tr>\n",
              "    <tr>\n",
              "      <th>blobgroup</th>\n",
              "      <th></th>\n",
              "      <th></th>\n",
              "    </tr>\n",
              "  </thead>\n",
              "  <tbody>\n",
              "    <tr>\n",
              "      <th>0</th>\n",
              "      <td>0.949735</td>\n",
              "      <td>4.419069</td>\n",
              "    </tr>\n",
              "    <tr>\n",
              "      <th>1</th>\n",
              "      <td>1.982583</td>\n",
              "      <td>0.867713</td>\n",
              "    </tr>\n",
              "    <tr>\n",
              "      <th>2</th>\n",
              "      <td>-1.584385</td>\n",
              "      <td>2.830813</td>\n",
              "    </tr>\n",
              "    <tr>\n",
              "      <th>3</th>\n",
              "      <td>-1.373244</td>\n",
              "      <td>7.753689</td>\n",
              "    </tr>\n",
              "  </tbody>\n",
              "</table>\n",
              "</div>"
            ],
            "text/plain": [
              "                  x         y\n",
              "blobgroup                    \n",
              "0          0.949735  4.419069\n",
              "1          1.982583  0.867713\n",
              "2         -1.584385  2.830813\n",
              "3         -1.373244  7.753689"
            ]
          },
          "metadata": {
            "tags": []
          },
          "execution_count": 13
        }
      ]
    },
    {
      "cell_type": "code",
      "metadata": {
        "id": "NEcQWe6RIvUF",
        "colab_type": "code",
        "outputId": "bbff1899-4ffa-4216-defd-bbbce540703d",
        "colab": {
          "base_uri": "https://localhost:8080/",
          "height": 33
        }
      },
      "source": [
        "type(blobgp)"
      ],
      "execution_count": 0,
      "outputs": [
        {
          "output_type": "execute_result",
          "data": {
            "text/plain": [
              "pandas.core.frame.DataFrame"
            ]
          },
          "metadata": {
            "tags": []
          },
          "execution_count": 14
        }
      ]
    },
    {
      "cell_type": "code",
      "metadata": {
        "id": "i0ZKZ3bmxUVd",
        "colab_type": "code",
        "outputId": "bae76e07-5dd5-4d3a-fc9e-4e108ed200f4",
        "colab": {
          "base_uri": "https://localhost:8080/",
          "height": 269
        }
      },
      "source": [
        "# c1=alt.Chart(blobs,height=150).mark_circle(opacity=0.6).encode(\n",
        "#   x='x',\n",
        "#   y='y',\n",
        "#   color=alt.Color('blobgroupre',scale=alt.Scale(type='linear',range=['blue','orange']))\n",
        "    \n",
        "# ).interactive()\n",
        "\n",
        "plt.scatter(blobs.iloc[:,0],blobs.iloc[:,1],c=blobs.iloc[:,3],cmap='Set3')\n",
        "c2=plt.scatter(blobgp2.iloc[:,0],blobgp2.iloc[:,1],c='black',s=200,alpha=0.5)"
      ],
      "execution_count": 0,
      "outputs": [
        {
          "output_type": "display_data",
          "data": {
            "image/png": "[encoded data removed]",
            "text/plain": [
              "<Figure size 432x288 with 1 Axes>"
            ]
          },
          "metadata": {
            "tags": []
          }
        }
      ]
    },
    {
      "cell_type": "code",
      "metadata": {
        "id": "cwkLVfPSVwnK",
        "colab_type": "code",
        "colab": {}
      },
      "source": [
        ""
      ],
      "execution_count": 0,
      "outputs": []
    },
    {
      "cell_type": "code",
      "metadata": {
        "id": "apdonYcm5aKt",
        "colab_type": "code",
        "colab": {}
      },
      "source": [
        "color='blobgroup'"
      ],
      "execution_count": 0,
      "outputs": []
    },
    {
      "cell_type": "code",
      "metadata": {
        "id": "R4C0fbR54ICl",
        "colab_type": "code",
        "outputId": "90dc0a7c-2ce3-4a9d-dd9a-09a8907bdacc",
        "colab": {
          "base_uri": "https://localhost:8080/",
          "height": 33
        }
      },
      "source": [
        "np.mean(blobs.x)\n"
      ],
      "execution_count": 0,
      "outputs": [
        {
          "output_type": "execute_result",
          "data": {
            "text/plain": [
              "-0.006327628450079412"
            ]
          },
          "metadata": {
            "tags": []
          },
          "execution_count": 17
        }
      ]
    },
    {
      "cell_type": "code",
      "metadata": {
        "id": "cw3GY4vHErjI",
        "colab_type": "code",
        "colab": {}
      },
      "source": [
        "def ds(a,b,c,d):\n",
        "  return((a-b)**2+(c-d)**2)**0.5"
      ],
      "execution_count": 0,
      "outputs": []
    },
    {
      "cell_type": "code",
      "metadata": {
        "id": "6crWysijF2vF",
        "colab_type": "code",
        "colab": {}
      },
      "source": [
        "ds=np.vectorize(ds)"
      ],
      "execution_count": 0,
      "outputs": []
    },
    {
      "cell_type": "code",
      "metadata": {
        "id": "YVsmj_FjGI8Q",
        "colab_type": "code",
        "outputId": "436d3242-3d9f-40db-fb1d-dfaefd08e9ec",
        "colab": {
          "base_uri": "https://localhost:8080/",
          "height": 365
        }
      },
      "source": [
        "blobs['ds1']=ds(blobs.x,blobgp2.iloc[0][0],blobs.y,blobgp2.iloc[0][1])\n",
        "blobs['ds2']=ds(blobs.x,blobgp2.iloc[1][0],blobs.y,blobgp2.iloc[1][1])\n",
        "blobs['ds3']=ds(blobs.x,blobgp2.iloc[2][0],blobs.y,blobgp2.iloc[2][1])\n",
        "blobs['ds4']=ds(blobs.x,blobgp2.iloc[3][0],blobs.y,blobgp2.iloc[3][1])\n",
        "blobs.head(10)"
      ],
      "execution_count": 0,
      "outputs": [
        {
          "output_type": "execute_result",
          "data": {
            "text/html": [
              "<div>\n",
              "<style scoped>\n",
              "    .dataframe tbody tr th:only-of-type {\n",
              "        vertical-align: middle;\n",
              "    }\n",
              "\n",
              "    .dataframe tbody tr th {\n",
              "        vertical-align: top;\n",
              "    }\n",
              "\n",
              "    .dataframe thead th {\n",
              "        text-align: right;\n",
              "    }\n",
              "</style>\n",
              "<table border=\"1\" class=\"dataframe\">\n",
              "  <thead>\n",
              "    <tr style=\"text-align: right;\">\n",
              "      <th></th>\n",
              "      <th>x</th>\n",
              "      <th>y</th>\n",
              "      <th>blobgroup</th>\n",
              "      <th>blobgroupre</th>\n",
              "      <th>ds1</th>\n",
              "      <th>ds2</th>\n",
              "      <th>ds3</th>\n",
              "      <th>ds4</th>\n",
              "    </tr>\n",
              "  </thead>\n",
              "  <tbody>\n",
              "    <tr>\n",
              "      <th>0</th>\n",
              "      <td>0.836857</td>\n",
              "      <td>2.136359</td>\n",
              "      <td>1</td>\n",
              "      <td>3</td>\n",
              "      <td>2.404840</td>\n",
              "      <td>1.512904</td>\n",
              "      <td>2.014791</td>\n",
              "      <td>2.192311</td>\n",
              "    </tr>\n",
              "    <tr>\n",
              "      <th>1</th>\n",
              "      <td>-1.413658</td>\n",
              "      <td>7.409623</td>\n",
              "      <td>3</td>\n",
              "      <td>2</td>\n",
              "      <td>3.353868</td>\n",
              "      <td>4.224130</td>\n",
              "      <td>3.724162</td>\n",
              "      <td>3.541201</td>\n",
              "    </tr>\n",
              "    <tr>\n",
              "      <th>2</th>\n",
              "      <td>1.155213</td>\n",
              "      <td>5.099619</td>\n",
              "      <td>0</td>\n",
              "      <td>2</td>\n",
              "      <td>1.734577</td>\n",
              "      <td>1.891442</td>\n",
              "      <td>1.459942</td>\n",
              "      <td>1.527132</td>\n",
              "    </tr>\n",
              "    <tr>\n",
              "      <th>3</th>\n",
              "      <td>-1.018616</td>\n",
              "      <td>7.814915</td>\n",
              "      <td>3</td>\n",
              "      <td>1</td>\n",
              "      <td>3.647213</td>\n",
              "      <td>4.482861</td>\n",
              "      <td>3.960396</td>\n",
              "      <td>3.797175</td>\n",
              "    </tr>\n",
              "    <tr>\n",
              "      <th>4</th>\n",
              "      <td>1.271351</td>\n",
              "      <td>1.892542</td>\n",
              "      <td>1</td>\n",
              "      <td>1</td>\n",
              "      <td>2.842583</td>\n",
              "      <td>1.945276</td>\n",
              "      <td>2.413003</td>\n",
              "      <td>2.606711</td>\n",
              "    </tr>\n",
              "    <tr>\n",
              "      <th>5</th>\n",
              "      <td>3.437618</td>\n",
              "      <td>0.261654</td>\n",
              "      <td>1</td>\n",
              "      <td>1</td>\n",
              "      <td>5.483099</td>\n",
              "      <td>4.599557</td>\n",
              "      <td>4.998157</td>\n",
              "      <td>5.212709</td>\n",
              "    </tr>\n",
              "    <tr>\n",
              "      <th>6</th>\n",
              "      <td>-1.808223</td>\n",
              "      <td>1.597017</td>\n",
              "      <td>2</td>\n",
              "      <td>3</td>\n",
              "      <td>3.012117</td>\n",
              "      <td>2.732075</td>\n",
              "      <td>3.130751</td>\n",
              "      <td>3.103826</td>\n",
              "    </tr>\n",
              "    <tr>\n",
              "      <th>7</th>\n",
              "      <td>1.413724</td>\n",
              "      <td>4.381177</td>\n",
              "      <td>0</td>\n",
              "      <td>0</td>\n",
              "      <td>1.765980</td>\n",
              "      <td>1.536789</td>\n",
              "      <td>1.303028</td>\n",
              "      <td>1.470572</td>\n",
              "    </tr>\n",
              "    <tr>\n",
              "      <th>8</th>\n",
              "      <td>-0.204932</td>\n",
              "      <td>8.432097</td>\n",
              "      <td>3</td>\n",
              "      <td>3</td>\n",
              "      <td>4.204159</td>\n",
              "      <td>4.955472</td>\n",
              "      <td>4.413708</td>\n",
              "      <td>4.288803</td>\n",
              "    </tr>\n",
              "    <tr>\n",
              "      <th>9</th>\n",
              "      <td>-0.711100</td>\n",
              "      <td>8.660438</td>\n",
              "      <td>3</td>\n",
              "      <td>1</td>\n",
              "      <td>4.445176</td>\n",
              "      <td>5.243374</td>\n",
              "      <td>4.708014</td>\n",
              "      <td>4.563804</td>\n",
              "    </tr>\n",
              "  </tbody>\n",
              "</table>\n",
              "</div>"
            ],
            "text/plain": [
              "          x         y  blobgroup  blobgroupre       ds1       ds2       ds3  \\\n",
              "0  0.836857  2.136359          1            3  2.404840  1.512904  2.014791   \n",
              "1 -1.413658  7.409623          3            2  3.353868  4.224130  3.724162   \n",
              "2  1.155213  5.099619          0            2  1.734577  1.891442  1.459942   \n",
              "3 -1.018616  7.814915          3            1  3.647213  4.482861  3.960396   \n",
              "4  1.271351  1.892542          1            1  2.842583  1.945276  2.413003   \n",
              "5  3.437618  0.261654          1            1  5.483099  4.599557  4.998157   \n",
              "6 -1.808223  1.597017          2            3  3.012117  2.732075  3.130751   \n",
              "7  1.413724  4.381177          0            0  1.765980  1.536789  1.303028   \n",
              "8 -0.204932  8.432097          3            3  4.204159  4.955472  4.413708   \n",
              "9 -0.711100  8.660438          3            1  4.445176  5.243374  4.708014   \n",
              "\n",
              "        ds4  \n",
              "0  2.192311  \n",
              "1  3.541201  \n",
              "2  1.527132  \n",
              "3  3.797175  \n",
              "4  2.606711  \n",
              "5  5.212709  \n",
              "6  3.103826  \n",
              "7  1.470572  \n",
              "8  4.288803  \n",
              "9  4.563804  "
            ]
          },
          "metadata": {
            "tags": []
          },
          "execution_count": 20
        }
      ]
    },
    {
      "cell_type": "code",
      "metadata": {
        "id": "qjOrkwLbsahD",
        "colab_type": "code",
        "colab": {}
      },
      "source": [
        "def assign(x,y):\n",
        "  disc=[]\n",
        "  for i in range (4):\n",
        "    disc1=ds(x,blobgp2.iloc[i][0],y,blobgp2.iloc[i][1])\n",
        "    disc.append(disc1)\n",
        "    disc.index(min(disc))\n",
        "  return disc.index(min(disc))"
      ],
      "execution_count": 0,
      "outputs": []
    },
    {
      "cell_type": "code",
      "metadata": {
        "id": "F4mVtkyAcIuF",
        "colab_type": "code",
        "colab": {}
      },
      "source": [
        ""
      ],
      "execution_count": 0,
      "outputs": []
    },
    {
      "cell_type": "code",
      "metadata": {
        "id": "Vs-gj5AOusVT",
        "colab_type": "code",
        "colab": {}
      },
      "source": [
        "assign=np.vectorize(assign)"
      ],
      "execution_count": 0,
      "outputs": []
    },
    {
      "cell_type": "code",
      "metadata": {
        "id": "YEKef7HivSbn",
        "colab_type": "code",
        "outputId": "372d3c36-e949-4578-ab9d-8ff35d98bcaa",
        "colab": {
          "base_uri": "https://localhost:8080/",
          "height": 216
        }
      },
      "source": [
        "blobs['blobgroupre']=assign(blobs.x,blobs.y)\n",
        "blobs.head()"
      ],
      "execution_count": 0,
      "outputs": [
        {
          "output_type": "execute_result",
          "data": {
            "text/html": [
              "<div>\n",
              "<style scoped>\n",
              "    .dataframe tbody tr th:only-of-type {\n",
              "        vertical-align: middle;\n",
              "    }\n",
              "\n",
              "    .dataframe tbody tr th {\n",
              "        vertical-align: top;\n",
              "    }\n",
              "\n",
              "    .dataframe thead th {\n",
              "        text-align: right;\n",
              "    }\n",
              "</style>\n",
              "<table border=\"1\" class=\"dataframe\">\n",
              "  <thead>\n",
              "    <tr style=\"text-align: right;\">\n",
              "      <th></th>\n",
              "      <th>x</th>\n",
              "      <th>y</th>\n",
              "      <th>blobgroup</th>\n",
              "      <th>blobgroupre</th>\n",
              "      <th>ds1</th>\n",
              "      <th>ds2</th>\n",
              "      <th>ds3</th>\n",
              "      <th>ds4</th>\n",
              "    </tr>\n",
              "  </thead>\n",
              "  <tbody>\n",
              "    <tr>\n",
              "      <th>0</th>\n",
              "      <td>0.836857</td>\n",
              "      <td>2.136359</td>\n",
              "      <td>1</td>\n",
              "      <td>1</td>\n",
              "      <td>2.404840</td>\n",
              "      <td>1.512904</td>\n",
              "      <td>2.014791</td>\n",
              "      <td>2.192311</td>\n",
              "    </tr>\n",
              "    <tr>\n",
              "      <th>1</th>\n",
              "      <td>-1.413658</td>\n",
              "      <td>7.409623</td>\n",
              "      <td>3</td>\n",
              "      <td>0</td>\n",
              "      <td>3.353868</td>\n",
              "      <td>4.224130</td>\n",
              "      <td>3.724162</td>\n",
              "      <td>3.541201</td>\n",
              "    </tr>\n",
              "    <tr>\n",
              "      <th>2</th>\n",
              "      <td>1.155213</td>\n",
              "      <td>5.099619</td>\n",
              "      <td>0</td>\n",
              "      <td>2</td>\n",
              "      <td>1.734577</td>\n",
              "      <td>1.891442</td>\n",
              "      <td>1.459942</td>\n",
              "      <td>1.527132</td>\n",
              "    </tr>\n",
              "    <tr>\n",
              "      <th>3</th>\n",
              "      <td>-1.018616</td>\n",
              "      <td>7.814915</td>\n",
              "      <td>3</td>\n",
              "      <td>0</td>\n",
              "      <td>3.647213</td>\n",
              "      <td>4.482861</td>\n",
              "      <td>3.960396</td>\n",
              "      <td>3.797175</td>\n",
              "    </tr>\n",
              "    <tr>\n",
              "      <th>4</th>\n",
              "      <td>1.271351</td>\n",
              "      <td>1.892542</td>\n",
              "      <td>1</td>\n",
              "      <td>1</td>\n",
              "      <td>2.842583</td>\n",
              "      <td>1.945276</td>\n",
              "      <td>2.413003</td>\n",
              "      <td>2.606711</td>\n",
              "    </tr>\n",
              "  </tbody>\n",
              "</table>\n",
              "</div>"
            ],
            "text/plain": [
              "          x         y  blobgroup  blobgroupre       ds1       ds2       ds3  \\\n",
              "0  0.836857  2.136359          1            1  2.404840  1.512904  2.014791   \n",
              "1 -1.413658  7.409623          3            0  3.353868  4.224130  3.724162   \n",
              "2  1.155213  5.099619          0            2  1.734577  1.891442  1.459942   \n",
              "3 -1.018616  7.814915          3            0  3.647213  4.482861  3.960396   \n",
              "4  1.271351  1.892542          1            1  2.842583  1.945276  2.413003   \n",
              "\n",
              "        ds4  \n",
              "0  2.192311  \n",
              "1  3.541201  \n",
              "2  1.527132  \n",
              "3  3.797175  \n",
              "4  2.606711  "
            ]
          },
          "metadata": {
            "tags": []
          },
          "execution_count": 23
        }
      ]
    },
    {
      "cell_type": "code",
      "metadata": {
        "id": "XGDrE0Bln096",
        "colab_type": "code",
        "outputId": "3ff95c7f-c7ad-4d1e-8803-e44e39f56e2c",
        "colab": {
          "base_uri": "https://localhost:8080/",
          "height": 286
        }
      },
      "source": [
        "plt.scatter(blobs.iloc[:,0],blobs.iloc[:,1],c=blobs.iloc[:,3],cmap='Set3')\n",
        "plt.scatter(blobgp2.iloc[:,0],blobgp2.iloc[:,1],c='black',s=200,alpha=0.5)"
      ],
      "execution_count": 0,
      "outputs": [
        {
          "output_type": "execute_result",
          "data": {
            "text/plain": [
              "<matplotlib.collections.PathCollection at 0x7f6ee27f5358>"
            ]
          },
          "metadata": {
            "tags": []
          },
          "execution_count": 24
        },
        {
          "output_type": "display_data",
          "data": {
            "image/png": "[encoded data removed]",
            "text/plain": [
              "<Figure size 432x288 with 1 Axes>"
            ]
          },
          "metadata": {
            "tags": []
          }
        }
      ]
    },
    {
      "cell_type": "code",
      "metadata": {
        "id": "ZQ-qClh8khEo",
        "colab_type": "code",
        "outputId": "5f7a9f7d-dd19-4f72-d9ef-3ae785e2f100",
        "colab": {
          "base_uri": "https://localhost:8080/",
          "height": 216
        }
      },
      "source": [
        "blobgp2=blobs.groupby(['blobgroupre'])['x','y'].mean()\n",
        "blobgp2\n",
        "blobs['blobgroupre']=assign(blobs.x,blobs.y)\n",
        "blobs.head()"
      ],
      "execution_count": 0,
      "outputs": [
        {
          "output_type": "execute_result",
          "data": {
            "text/html": [
              "<div>\n",
              "<style scoped>\n",
              "    .dataframe tbody tr th:only-of-type {\n",
              "        vertical-align: middle;\n",
              "    }\n",
              "\n",
              "    .dataframe tbody tr th {\n",
              "        vertical-align: top;\n",
              "    }\n",
              "\n",
              "    .dataframe thead th {\n",
              "        text-align: right;\n",
              "    }\n",
              "</style>\n",
              "<table border=\"1\" class=\"dataframe\">\n",
              "  <thead>\n",
              "    <tr style=\"text-align: right;\">\n",
              "      <th></th>\n",
              "      <th>x</th>\n",
              "      <th>y</th>\n",
              "      <th>blobgroup</th>\n",
              "      <th>blobgroupre</th>\n",
              "      <th>ds1</th>\n",
              "      <th>ds2</th>\n",
              "      <th>ds3</th>\n",
              "      <th>ds4</th>\n",
              "    </tr>\n",
              "  </thead>\n",
              "  <tbody>\n",
              "    <tr>\n",
              "      <th>0</th>\n",
              "      <td>0.836857</td>\n",
              "      <td>2.136359</td>\n",
              "      <td>1</td>\n",
              "      <td>1</td>\n",
              "      <td>2.404840</td>\n",
              "      <td>1.512904</td>\n",
              "      <td>2.014791</td>\n",
              "      <td>2.192311</td>\n",
              "    </tr>\n",
              "    <tr>\n",
              "      <th>1</th>\n",
              "      <td>-1.413658</td>\n",
              "      <td>7.409623</td>\n",
              "      <td>3</td>\n",
              "      <td>0</td>\n",
              "      <td>3.353868</td>\n",
              "      <td>4.224130</td>\n",
              "      <td>3.724162</td>\n",
              "      <td>3.541201</td>\n",
              "    </tr>\n",
              "    <tr>\n",
              "      <th>2</th>\n",
              "      <td>1.155213</td>\n",
              "      <td>5.099619</td>\n",
              "      <td>0</td>\n",
              "      <td>2</td>\n",
              "      <td>1.734577</td>\n",
              "      <td>1.891442</td>\n",
              "      <td>1.459942</td>\n",
              "      <td>1.527132</td>\n",
              "    </tr>\n",
              "    <tr>\n",
              "      <th>3</th>\n",
              "      <td>-1.018616</td>\n",
              "      <td>7.814915</td>\n",
              "      <td>3</td>\n",
              "      <td>0</td>\n",
              "      <td>3.647213</td>\n",
              "      <td>4.482861</td>\n",
              "      <td>3.960396</td>\n",
              "      <td>3.797175</td>\n",
              "    </tr>\n",
              "    <tr>\n",
              "      <th>4</th>\n",
              "      <td>1.271351</td>\n",
              "      <td>1.892542</td>\n",
              "      <td>1</td>\n",
              "      <td>1</td>\n",
              "      <td>2.842583</td>\n",
              "      <td>1.945276</td>\n",
              "      <td>2.413003</td>\n",
              "      <td>2.606711</td>\n",
              "    </tr>\n",
              "  </tbody>\n",
              "</table>\n",
              "</div>"
            ],
            "text/plain": [
              "          x         y  blobgroup  blobgroupre       ds1       ds2       ds3  \\\n",
              "0  0.836857  2.136359          1            1  2.404840  1.512904  2.014791   \n",
              "1 -1.413658  7.409623          3            0  3.353868  4.224130  3.724162   \n",
              "2  1.155213  5.099619          0            2  1.734577  1.891442  1.459942   \n",
              "3 -1.018616  7.814915          3            0  3.647213  4.482861  3.960396   \n",
              "4  1.271351  1.892542          1            1  2.842583  1.945276  2.413003   \n",
              "\n",
              "        ds4  \n",
              "0  2.192311  \n",
              "1  3.541201  \n",
              "2  1.527132  \n",
              "3  3.797175  \n",
              "4  2.606711  "
            ]
          },
          "metadata": {
            "tags": []
          },
          "execution_count": 25
        }
      ]
    },
    {
      "cell_type": "code",
      "metadata": {
        "id": "EW6nHpq6lQ-t",
        "colab_type": "code",
        "outputId": "1c3b1c94-94dc-4ad6-f4b2-0b8e060a3005",
        "colab": {
          "base_uri": "https://localhost:8080/",
          "height": 286
        }
      },
      "source": [
        "plt.scatter(blobs.iloc[:,0],blobs.iloc[:,1],c=blobs.iloc[:,3],cmap='Set3')\n",
        "plt.scatter(blobgp2.iloc[:,0],blobgp2.iloc[:,1],c='black',s=200,alpha=0.5)"
      ],
      "execution_count": 0,
      "outputs": [
        {
          "output_type": "execute_result",
          "data": {
            "text/plain": [
              "<matplotlib.collections.PathCollection at 0x7f6ee2774320>"
            ]
          },
          "metadata": {
            "tags": []
          },
          "execution_count": 26
        },
        {
          "output_type": "display_data",
          "data": {
            "image/png": "[encoded data removed]",
            "text/plain": [
              "<Figure size 432x288 with 1 Axes>"
            ]
          },
          "metadata": {
            "tags": []
          }
        }
      ]
    },
    {
      "cell_type": "code",
      "metadata": {
        "id": "jaBLQ_JElZE_",
        "colab_type": "code",
        "outputId": "8dfd2856-bafb-4f39-aa3a-944948cba611",
        "colab": {
          "base_uri": "https://localhost:8080/",
          "height": 196
        }
      },
      "source": [
        "blobgp2=blobs.groupby(['blobgroupre'])['x','y'].mean()\n",
        "blobgp2"
      ],
      "execution_count": 0,
      "outputs": [
        {
          "output_type": "execute_result",
          "data": {
            "text/html": [
              "<div>\n",
              "<style scoped>\n",
              "    .dataframe tbody tr th:only-of-type {\n",
              "        vertical-align: middle;\n",
              "    }\n",
              "\n",
              "    .dataframe tbody tr th {\n",
              "        vertical-align: top;\n",
              "    }\n",
              "\n",
              "    .dataframe thead th {\n",
              "        text-align: right;\n",
              "    }\n",
              "</style>\n",
              "<table border=\"1\" class=\"dataframe\">\n",
              "  <thead>\n",
              "    <tr style=\"text-align: right;\">\n",
              "      <th></th>\n",
              "      <th>x</th>\n",
              "      <th>y</th>\n",
              "    </tr>\n",
              "    <tr>\n",
              "      <th>blobgroupre</th>\n",
              "      <th></th>\n",
              "      <th></th>\n",
              "    </tr>\n",
              "  </thead>\n",
              "  <tbody>\n",
              "    <tr>\n",
              "      <th>0</th>\n",
              "      <td>-1.474948</td>\n",
              "      <td>7.372951</td>\n",
              "    </tr>\n",
              "    <tr>\n",
              "      <th>1</th>\n",
              "      <td>0.742617</td>\n",
              "      <td>1.425381</td>\n",
              "    </tr>\n",
              "    <tr>\n",
              "      <th>2</th>\n",
              "      <td>1.185210</td>\n",
              "      <td>4.244672</td>\n",
              "    </tr>\n",
              "    <tr>\n",
              "      <th>3</th>\n",
              "      <td>-0.647865</td>\n",
              "      <td>3.983496</td>\n",
              "    </tr>\n",
              "  </tbody>\n",
              "</table>\n",
              "</div>"
            ],
            "text/plain": [
              "                    x         y\n",
              "blobgroupre                    \n",
              "0           -1.474948  7.372951\n",
              "1            0.742617  1.425381\n",
              "2            1.185210  4.244672\n",
              "3           -0.647865  3.983496"
            ]
          },
          "metadata": {
            "tags": []
          },
          "execution_count": 27
        }
      ]
    },
    {
      "cell_type": "code",
      "metadata": {
        "id": "sfqZio8flcDE",
        "colab_type": "code",
        "outputId": "1dc8ab23-572c-4692-c22b-9e6803c174fb",
        "colab": {
          "base_uri": "https://localhost:8080/",
          "height": 216
        }
      },
      "source": [
        "blobs['blobgroupre']=assign(blobs.x,blobs.y)\n",
        "blobs.head()"
      ],
      "execution_count": 0,
      "outputs": [
        {
          "output_type": "execute_result",
          "data": {
            "text/html": [
              "<div>\n",
              "<style scoped>\n",
              "    .dataframe tbody tr th:only-of-type {\n",
              "        vertical-align: middle;\n",
              "    }\n",
              "\n",
              "    .dataframe tbody tr th {\n",
              "        vertical-align: top;\n",
              "    }\n",
              "\n",
              "    .dataframe thead th {\n",
              "        text-align: right;\n",
              "    }\n",
              "</style>\n",
              "<table border=\"1\" class=\"dataframe\">\n",
              "  <thead>\n",
              "    <tr style=\"text-align: right;\">\n",
              "      <th></th>\n",
              "      <th>x</th>\n",
              "      <th>y</th>\n",
              "      <th>blobgroup</th>\n",
              "      <th>blobgroupre</th>\n",
              "      <th>ds1</th>\n",
              "      <th>ds2</th>\n",
              "      <th>ds3</th>\n",
              "      <th>ds4</th>\n",
              "    </tr>\n",
              "  </thead>\n",
              "  <tbody>\n",
              "    <tr>\n",
              "      <th>0</th>\n",
              "      <td>0.836857</td>\n",
              "      <td>2.136359</td>\n",
              "      <td>1</td>\n",
              "      <td>1</td>\n",
              "      <td>2.404840</td>\n",
              "      <td>1.512904</td>\n",
              "      <td>2.014791</td>\n",
              "      <td>2.192311</td>\n",
              "    </tr>\n",
              "    <tr>\n",
              "      <th>1</th>\n",
              "      <td>-1.413658</td>\n",
              "      <td>7.409623</td>\n",
              "      <td>3</td>\n",
              "      <td>0</td>\n",
              "      <td>3.353868</td>\n",
              "      <td>4.224130</td>\n",
              "      <td>3.724162</td>\n",
              "      <td>3.541201</td>\n",
              "    </tr>\n",
              "    <tr>\n",
              "      <th>2</th>\n",
              "      <td>1.155213</td>\n",
              "      <td>5.099619</td>\n",
              "      <td>0</td>\n",
              "      <td>2</td>\n",
              "      <td>1.734577</td>\n",
              "      <td>1.891442</td>\n",
              "      <td>1.459942</td>\n",
              "      <td>1.527132</td>\n",
              "    </tr>\n",
              "    <tr>\n",
              "      <th>3</th>\n",
              "      <td>-1.018616</td>\n",
              "      <td>7.814915</td>\n",
              "      <td>3</td>\n",
              "      <td>0</td>\n",
              "      <td>3.647213</td>\n",
              "      <td>4.482861</td>\n",
              "      <td>3.960396</td>\n",
              "      <td>3.797175</td>\n",
              "    </tr>\n",
              "    <tr>\n",
              "      <th>4</th>\n",
              "      <td>1.271351</td>\n",
              "      <td>1.892542</td>\n",
              "      <td>1</td>\n",
              "      <td>1</td>\n",
              "      <td>2.842583</td>\n",
              "      <td>1.945276</td>\n",
              "      <td>2.413003</td>\n",
              "      <td>2.606711</td>\n",
              "    </tr>\n",
              "  </tbody>\n",
              "</table>\n",
              "</div>"
            ],
            "text/plain": [
              "          x         y  blobgroup  blobgroupre       ds1       ds2       ds3  \\\n",
              "0  0.836857  2.136359          1            1  2.404840  1.512904  2.014791   \n",
              "1 -1.413658  7.409623          3            0  3.353868  4.224130  3.724162   \n",
              "2  1.155213  5.099619          0            2  1.734577  1.891442  1.459942   \n",
              "3 -1.018616  7.814915          3            0  3.647213  4.482861  3.960396   \n",
              "4  1.271351  1.892542          1            1  2.842583  1.945276  2.413003   \n",
              "\n",
              "        ds4  \n",
              "0  2.192311  \n",
              "1  3.541201  \n",
              "2  1.527132  \n",
              "3  3.797175  \n",
              "4  2.606711  "
            ]
          },
          "metadata": {
            "tags": []
          },
          "execution_count": 28
        }
      ]
    },
    {
      "cell_type": "code",
      "metadata": {
        "id": "V94a2neumJm5",
        "colab_type": "code",
        "outputId": "35bcbc73-b396-4637-9993-0ba049b91924",
        "colab": {
          "base_uri": "https://localhost:8080/",
          "height": 216
        }
      },
      "source": [
        "blobgp2=blobs.groupby(['blobgroupre'])['x','y'].mean()\n",
        "blobgp2\n",
        "\n",
        "blobs['blobgroupre']=assign(blobs.x,blobs.y)\n",
        "blobs.head()"
      ],
      "execution_count": 0,
      "outputs": [
        {
          "output_type": "execute_result",
          "data": {
            "text/html": [
              "<div>\n",
              "<style scoped>\n",
              "    .dataframe tbody tr th:only-of-type {\n",
              "        vertical-align: middle;\n",
              "    }\n",
              "\n",
              "    .dataframe tbody tr th {\n",
              "        vertical-align: top;\n",
              "    }\n",
              "\n",
              "    .dataframe thead th {\n",
              "        text-align: right;\n",
              "    }\n",
              "</style>\n",
              "<table border=\"1\" class=\"dataframe\">\n",
              "  <thead>\n",
              "    <tr style=\"text-align: right;\">\n",
              "      <th></th>\n",
              "      <th>x</th>\n",
              "      <th>y</th>\n",
              "      <th>blobgroup</th>\n",
              "      <th>blobgroupre</th>\n",
              "      <th>ds1</th>\n",
              "      <th>ds2</th>\n",
              "      <th>ds3</th>\n",
              "      <th>ds4</th>\n",
              "    </tr>\n",
              "  </thead>\n",
              "  <tbody>\n",
              "    <tr>\n",
              "      <th>0</th>\n",
              "      <td>0.836857</td>\n",
              "      <td>2.136359</td>\n",
              "      <td>1</td>\n",
              "      <td>1</td>\n",
              "      <td>2.404840</td>\n",
              "      <td>1.512904</td>\n",
              "      <td>2.014791</td>\n",
              "      <td>2.192311</td>\n",
              "    </tr>\n",
              "    <tr>\n",
              "      <th>1</th>\n",
              "      <td>-1.413658</td>\n",
              "      <td>7.409623</td>\n",
              "      <td>3</td>\n",
              "      <td>0</td>\n",
              "      <td>3.353868</td>\n",
              "      <td>4.224130</td>\n",
              "      <td>3.724162</td>\n",
              "      <td>3.541201</td>\n",
              "    </tr>\n",
              "    <tr>\n",
              "      <th>2</th>\n",
              "      <td>1.155213</td>\n",
              "      <td>5.099619</td>\n",
              "      <td>0</td>\n",
              "      <td>2</td>\n",
              "      <td>1.734577</td>\n",
              "      <td>1.891442</td>\n",
              "      <td>1.459942</td>\n",
              "      <td>1.527132</td>\n",
              "    </tr>\n",
              "    <tr>\n",
              "      <th>3</th>\n",
              "      <td>-1.018616</td>\n",
              "      <td>7.814915</td>\n",
              "      <td>3</td>\n",
              "      <td>0</td>\n",
              "      <td>3.647213</td>\n",
              "      <td>4.482861</td>\n",
              "      <td>3.960396</td>\n",
              "      <td>3.797175</td>\n",
              "    </tr>\n",
              "    <tr>\n",
              "      <th>4</th>\n",
              "      <td>1.271351</td>\n",
              "      <td>1.892542</td>\n",
              "      <td>1</td>\n",
              "      <td>1</td>\n",
              "      <td>2.842583</td>\n",
              "      <td>1.945276</td>\n",
              "      <td>2.413003</td>\n",
              "      <td>2.606711</td>\n",
              "    </tr>\n",
              "  </tbody>\n",
              "</table>\n",
              "</div>"
            ],
            "text/plain": [
              "          x         y  blobgroup  blobgroupre       ds1       ds2       ds3  \\\n",
              "0  0.836857  2.136359          1            1  2.404840  1.512904  2.014791   \n",
              "1 -1.413658  7.409623          3            0  3.353868  4.224130  3.724162   \n",
              "2  1.155213  5.099619          0            2  1.734577  1.891442  1.459942   \n",
              "3 -1.018616  7.814915          3            0  3.647213  4.482861  3.960396   \n",
              "4  1.271351  1.892542          1            1  2.842583  1.945276  2.413003   \n",
              "\n",
              "        ds4  \n",
              "0  2.192311  \n",
              "1  3.541201  \n",
              "2  1.527132  \n",
              "3  3.797175  \n",
              "4  2.606711  "
            ]
          },
          "metadata": {
            "tags": []
          },
          "execution_count": 29
        }
      ]
    },
    {
      "cell_type": "code",
      "metadata": {
        "id": "Yzbp8h46mTxU",
        "colab_type": "code",
        "outputId": "592a7e5b-20e8-456f-d2f8-5946d8872366",
        "colab": {
          "base_uri": "https://localhost:8080/",
          "height": 216
        }
      },
      "source": [
        "blobgp2=blobs.groupby(['blobgroupre'])['x','y'].mean()\n",
        "blobgp2\n",
        "blobs['blobgroupre']=assign(blobs.x,blobs.y)\n",
        "blobs.head()"
      ],
      "execution_count": 0,
      "outputs": [
        {
          "output_type": "execute_result",
          "data": {
            "text/html": [
              "<div>\n",
              "<style scoped>\n",
              "    .dataframe tbody tr th:only-of-type {\n",
              "        vertical-align: middle;\n",
              "    }\n",
              "\n",
              "    .dataframe tbody tr th {\n",
              "        vertical-align: top;\n",
              "    }\n",
              "\n",
              "    .dataframe thead th {\n",
              "        text-align: right;\n",
              "    }\n",
              "</style>\n",
              "<table border=\"1\" class=\"dataframe\">\n",
              "  <thead>\n",
              "    <tr style=\"text-align: right;\">\n",
              "      <th></th>\n",
              "      <th>x</th>\n",
              "      <th>y</th>\n",
              "      <th>blobgroup</th>\n",
              "      <th>blobgroupre</th>\n",
              "      <th>ds1</th>\n",
              "      <th>ds2</th>\n",
              "      <th>ds3</th>\n",
              "      <th>ds4</th>\n",
              "    </tr>\n",
              "  </thead>\n",
              "  <tbody>\n",
              "    <tr>\n",
              "      <th>0</th>\n",
              "      <td>0.836857</td>\n",
              "      <td>2.136359</td>\n",
              "      <td>1</td>\n",
              "      <td>1</td>\n",
              "      <td>2.404840</td>\n",
              "      <td>1.512904</td>\n",
              "      <td>2.014791</td>\n",
              "      <td>2.192311</td>\n",
              "    </tr>\n",
              "    <tr>\n",
              "      <th>1</th>\n",
              "      <td>-1.413658</td>\n",
              "      <td>7.409623</td>\n",
              "      <td>3</td>\n",
              "      <td>0</td>\n",
              "      <td>3.353868</td>\n",
              "      <td>4.224130</td>\n",
              "      <td>3.724162</td>\n",
              "      <td>3.541201</td>\n",
              "    </tr>\n",
              "    <tr>\n",
              "      <th>2</th>\n",
              "      <td>1.155213</td>\n",
              "      <td>5.099619</td>\n",
              "      <td>0</td>\n",
              "      <td>2</td>\n",
              "      <td>1.734577</td>\n",
              "      <td>1.891442</td>\n",
              "      <td>1.459942</td>\n",
              "      <td>1.527132</td>\n",
              "    </tr>\n",
              "    <tr>\n",
              "      <th>3</th>\n",
              "      <td>-1.018616</td>\n",
              "      <td>7.814915</td>\n",
              "      <td>3</td>\n",
              "      <td>0</td>\n",
              "      <td>3.647213</td>\n",
              "      <td>4.482861</td>\n",
              "      <td>3.960396</td>\n",
              "      <td>3.797175</td>\n",
              "    </tr>\n",
              "    <tr>\n",
              "      <th>4</th>\n",
              "      <td>1.271351</td>\n",
              "      <td>1.892542</td>\n",
              "      <td>1</td>\n",
              "      <td>1</td>\n",
              "      <td>2.842583</td>\n",
              "      <td>1.945276</td>\n",
              "      <td>2.413003</td>\n",
              "      <td>2.606711</td>\n",
              "    </tr>\n",
              "  </tbody>\n",
              "</table>\n",
              "</div>"
            ],
            "text/plain": [
              "          x         y  blobgroup  blobgroupre       ds1       ds2       ds3  \\\n",
              "0  0.836857  2.136359          1            1  2.404840  1.512904  2.014791   \n",
              "1 -1.413658  7.409623          3            0  3.353868  4.224130  3.724162   \n",
              "2  1.155213  5.099619          0            2  1.734577  1.891442  1.459942   \n",
              "3 -1.018616  7.814915          3            0  3.647213  4.482861  3.960396   \n",
              "4  1.271351  1.892542          1            1  2.842583  1.945276  2.413003   \n",
              "\n",
              "        ds4  \n",
              "0  2.192311  \n",
              "1  3.541201  \n",
              "2  1.527132  \n",
              "3  3.797175  \n",
              "4  2.606711  "
            ]
          },
          "metadata": {
            "tags": []
          },
          "execution_count": 30
        }
      ]
    },
    {
      "cell_type": "code",
      "metadata": {
        "id": "W4yajJpLm1fx",
        "colab_type": "code",
        "outputId": "c2ee5659-ded8-497e-f6d6-1f2bf0238afc",
        "colab": {
          "base_uri": "https://localhost:8080/",
          "height": 216
        }
      },
      "source": [
        "blobgp2=blobs.groupby(['blobgroupre'])['x','y'].mean()\n",
        "blobgp2\n",
        "blobs['blobgroupre']=assign(blobs.x,blobs.y)\n",
        "blobs.head()"
      ],
      "execution_count": 0,
      "outputs": [
        {
          "output_type": "execute_result",
          "data": {
            "text/html": [
              "<div>\n",
              "<style scoped>\n",
              "    .dataframe tbody tr th:only-of-type {\n",
              "        vertical-align: middle;\n",
              "    }\n",
              "\n",
              "    .dataframe tbody tr th {\n",
              "        vertical-align: top;\n",
              "    }\n",
              "\n",
              "    .dataframe thead th {\n",
              "        text-align: right;\n",
              "    }\n",
              "</style>\n",
              "<table border=\"1\" class=\"dataframe\">\n",
              "  <thead>\n",
              "    <tr style=\"text-align: right;\">\n",
              "      <th></th>\n",
              "      <th>x</th>\n",
              "      <th>y</th>\n",
              "      <th>blobgroup</th>\n",
              "      <th>blobgroupre</th>\n",
              "      <th>ds1</th>\n",
              "      <th>ds2</th>\n",
              "      <th>ds3</th>\n",
              "      <th>ds4</th>\n",
              "    </tr>\n",
              "  </thead>\n",
              "  <tbody>\n",
              "    <tr>\n",
              "      <th>0</th>\n",
              "      <td>0.836857</td>\n",
              "      <td>2.136359</td>\n",
              "      <td>1</td>\n",
              "      <td>1</td>\n",
              "      <td>2.404840</td>\n",
              "      <td>1.512904</td>\n",
              "      <td>2.014791</td>\n",
              "      <td>2.192311</td>\n",
              "    </tr>\n",
              "    <tr>\n",
              "      <th>1</th>\n",
              "      <td>-1.413658</td>\n",
              "      <td>7.409623</td>\n",
              "      <td>3</td>\n",
              "      <td>0</td>\n",
              "      <td>3.353868</td>\n",
              "      <td>4.224130</td>\n",
              "      <td>3.724162</td>\n",
              "      <td>3.541201</td>\n",
              "    </tr>\n",
              "    <tr>\n",
              "      <th>2</th>\n",
              "      <td>1.155213</td>\n",
              "      <td>5.099619</td>\n",
              "      <td>0</td>\n",
              "      <td>2</td>\n",
              "      <td>1.734577</td>\n",
              "      <td>1.891442</td>\n",
              "      <td>1.459942</td>\n",
              "      <td>1.527132</td>\n",
              "    </tr>\n",
              "    <tr>\n",
              "      <th>3</th>\n",
              "      <td>-1.018616</td>\n",
              "      <td>7.814915</td>\n",
              "      <td>3</td>\n",
              "      <td>0</td>\n",
              "      <td>3.647213</td>\n",
              "      <td>4.482861</td>\n",
              "      <td>3.960396</td>\n",
              "      <td>3.797175</td>\n",
              "    </tr>\n",
              "    <tr>\n",
              "      <th>4</th>\n",
              "      <td>1.271351</td>\n",
              "      <td>1.892542</td>\n",
              "      <td>1</td>\n",
              "      <td>1</td>\n",
              "      <td>2.842583</td>\n",
              "      <td>1.945276</td>\n",
              "      <td>2.413003</td>\n",
              "      <td>2.606711</td>\n",
              "    </tr>\n",
              "  </tbody>\n",
              "</table>\n",
              "</div>"
            ],
            "text/plain": [
              "          x         y  blobgroup  blobgroupre       ds1       ds2       ds3  \\\n",
              "0  0.836857  2.136359          1            1  2.404840  1.512904  2.014791   \n",
              "1 -1.413658  7.409623          3            0  3.353868  4.224130  3.724162   \n",
              "2  1.155213  5.099619          0            2  1.734577  1.891442  1.459942   \n",
              "3 -1.018616  7.814915          3            0  3.647213  4.482861  3.960396   \n",
              "4  1.271351  1.892542          1            1  2.842583  1.945276  2.413003   \n",
              "\n",
              "        ds4  \n",
              "0  2.192311  \n",
              "1  3.541201  \n",
              "2  1.527132  \n",
              "3  3.797175  \n",
              "4  2.606711  "
            ]
          },
          "metadata": {
            "tags": []
          },
          "execution_count": 31
        }
      ]
    },
    {
      "cell_type": "code",
      "metadata": {
        "id": "oR5rWrG4mxdF",
        "colab_type": "code",
        "outputId": "e935e5af-a67d-4ffc-d45c-da47689f3d82",
        "colab": {
          "base_uri": "https://localhost:8080/",
          "height": 286
        }
      },
      "source": [
        "plt.scatter(blobs.iloc[:,0],blobs.iloc[:,1],c=blobs.iloc[:,3],cmap='Set3')\n",
        "plt.scatter(blobgp2.iloc[:,0],blobgp2.iloc[:,1],c='black',s=200,alpha=0.5)"
      ],
      "execution_count": 0,
      "outputs": [
        {
          "output_type": "execute_result",
          "data": {
            "text/plain": [
              "<matplotlib.collections.PathCollection at 0x7f6ee2759748>"
            ]
          },
          "metadata": {
            "tags": []
          },
          "execution_count": 32
        },
        {
          "output_type": "display_data",
          "data": {
            "image/png": "[encoded data removed]",
            "text/plain": [
              "<Figure size 432x288 with 1 Axes>"
            ]
          },
          "metadata": {
            "tags": []
          }
        }
      ]
    },
    {
      "cell_type": "code",
      "metadata": {
        "id": "kcCG5BOQKRaV",
        "colab_type": "code",
        "outputId": "35317047-5229-4f48-90b8-b8dd85c86109",
        "colab": {
          "base_uri": "https://localhost:8080/",
          "height": 216
        }
      },
      "source": [
        "blobgp2=blobs.groupby(['blobgroupre'])['x','y'].mean()\n",
        "blobgp2\n",
        "blobs['blobgroupre']=assign(blobs.x,blobs.y)\n",
        "blobs.head()"
      ],
      "execution_count": 0,
      "outputs": [
        {
          "output_type": "execute_result",
          "data": {
            "text/html": [
              "<div>\n",
              "<style scoped>\n",
              "    .dataframe tbody tr th:only-of-type {\n",
              "        vertical-align: middle;\n",
              "    }\n",
              "\n",
              "    .dataframe tbody tr th {\n",
              "        vertical-align: top;\n",
              "    }\n",
              "\n",
              "    .dataframe thead th {\n",
              "        text-align: right;\n",
              "    }\n",
              "</style>\n",
              "<table border=\"1\" class=\"dataframe\">\n",
              "  <thead>\n",
              "    <tr style=\"text-align: right;\">\n",
              "      <th></th>\n",
              "      <th>x</th>\n",
              "      <th>y</th>\n",
              "      <th>blobgroup</th>\n",
              "      <th>blobgroupre</th>\n",
              "      <th>ds1</th>\n",
              "      <th>ds2</th>\n",
              "      <th>ds3</th>\n",
              "      <th>ds4</th>\n",
              "    </tr>\n",
              "  </thead>\n",
              "  <tbody>\n",
              "    <tr>\n",
              "      <th>0</th>\n",
              "      <td>0.836857</td>\n",
              "      <td>2.136359</td>\n",
              "      <td>1</td>\n",
              "      <td>1</td>\n",
              "      <td>2.404840</td>\n",
              "      <td>1.512904</td>\n",
              "      <td>2.014791</td>\n",
              "      <td>2.192311</td>\n",
              "    </tr>\n",
              "    <tr>\n",
              "      <th>1</th>\n",
              "      <td>-1.413658</td>\n",
              "      <td>7.409623</td>\n",
              "      <td>3</td>\n",
              "      <td>0</td>\n",
              "      <td>3.353868</td>\n",
              "      <td>4.224130</td>\n",
              "      <td>3.724162</td>\n",
              "      <td>3.541201</td>\n",
              "    </tr>\n",
              "    <tr>\n",
              "      <th>2</th>\n",
              "      <td>1.155213</td>\n",
              "      <td>5.099619</td>\n",
              "      <td>0</td>\n",
              "      <td>2</td>\n",
              "      <td>1.734577</td>\n",
              "      <td>1.891442</td>\n",
              "      <td>1.459942</td>\n",
              "      <td>1.527132</td>\n",
              "    </tr>\n",
              "    <tr>\n",
              "      <th>3</th>\n",
              "      <td>-1.018616</td>\n",
              "      <td>7.814915</td>\n",
              "      <td>3</td>\n",
              "      <td>0</td>\n",
              "      <td>3.647213</td>\n",
              "      <td>4.482861</td>\n",
              "      <td>3.960396</td>\n",
              "      <td>3.797175</td>\n",
              "    </tr>\n",
              "    <tr>\n",
              "      <th>4</th>\n",
              "      <td>1.271351</td>\n",
              "      <td>1.892542</td>\n",
              "      <td>1</td>\n",
              "      <td>1</td>\n",
              "      <td>2.842583</td>\n",
              "      <td>1.945276</td>\n",
              "      <td>2.413003</td>\n",
              "      <td>2.606711</td>\n",
              "    </tr>\n",
              "  </tbody>\n",
              "</table>\n",
              "</div>"
            ],
            "text/plain": [
              "          x         y  blobgroup  blobgroupre       ds1       ds2       ds3  \\\n",
              "0  0.836857  2.136359          1            1  2.404840  1.512904  2.014791   \n",
              "1 -1.413658  7.409623          3            0  3.353868  4.224130  3.724162   \n",
              "2  1.155213  5.099619          0            2  1.734577  1.891442  1.459942   \n",
              "3 -1.018616  7.814915          3            0  3.647213  4.482861  3.960396   \n",
              "4  1.271351  1.892542          1            1  2.842583  1.945276  2.413003   \n",
              "\n",
              "        ds4  \n",
              "0  2.192311  \n",
              "1  3.541201  \n",
              "2  1.527132  \n",
              "3  3.797175  \n",
              "4  2.606711  "
            ]
          },
          "metadata": {
            "tags": []
          },
          "execution_count": 33
        }
      ]
    },
    {
      "cell_type": "code",
      "metadata": {
        "id": "0N7C-4Uv1vNG",
        "colab_type": "code",
        "outputId": "e9be1c3d-f045-43c2-9f3f-fb09d5443063",
        "colab": {
          "base_uri": "https://localhost:8080/",
          "height": 269
        }
      },
      "source": [
        "plt.scatter(blobs.iloc[:,0],blobs.iloc[:,1],c=blobs.iloc[:,3],cmap='Set3')\n",
        "c2=plt.scatter(blobgp2.iloc[:,0],blobgp2.iloc[:,1],c='black',s=200,alpha=0.5)"
      ],
      "execution_count": 0,
      "outputs": [
        {
          "output_type": "display_data",
          "data": {
            "image/png": "[encoded data removed]",
            "text/plain": [
              "<Figure size 432x288 with 1 Axes>"
            ]
          },
          "metadata": {
            "tags": []
          }
        }
      ]
    }
  ]
}